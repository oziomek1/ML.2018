{
 "cells": [
  {
   "cell_type": "markdown",
   "metadata": {},
   "source": [
    "## Implementation of:\n",
    "* The mahalanobis distance function\n",
    "* Calculate_u for possibilistic k-means"
   ]
  },
  {
   "cell_type": "markdown",
   "metadata": {},
   "source": [
    "## GOAL:\n",
    "### Homework: Implement possibilistic k-means\n",
    "\n",
    "Goal:\n",
    "1. Implement the mahalanobis_distance function.\n",
    "2. Implement the calculate_eta function.\n",
    "3. Implement the calculate_u."
   ]
  },
  {
   "cell_type": "code",
   "execution_count": 1,
   "metadata": {},
   "outputs": [],
   "source": [
    "import matplotlib.pyplot as plt\n",
    "import numpy as np\n",
    "import random\n",
    "import math"
   ]
  },
  {
   "cell_type": "markdown",
   "metadata": {},
   "source": [
    "|**Aircraft name** | **Distance range (km)** | **Seats count** | **Aircraft type** |\n",
    "|------------------|-------------------------|-----------------|-------------------|\n",
    "| Cesna 510 Mustang| 1940                    |             4   | private jet       |\n",
    "| Falcon 10/100    | 2960                    |             9   | private jet       |\n",
    "| Hawker 900/900XP | 4630                    |             9   | private jet       |\n",
    "| ATR 72-600       | 1528                    |            78   | medium size aircraft|\n",
    "| Bombardier Dash 8 Q400 | 2040              |            90   | medium size aircraft|\n",
    "| Embraer ERJ145 XR| 3700                    |            50   | medium size aircraft|\n",
    "| Boeing 747-8     | 14815                   |           467   | jet airliner      |\n",
    "| A380-800         | 15200                   |           509   | jet airliner      |\n",
    "| Boeing 787-8     | 15700                   |           290   | jet airliner      |\n",
    "| Boeing 737-900ER | 6045                    |           215   | jet airliner      | "
   ]
  },
  {
   "cell_type": "code",
   "execution_count": 2,
   "metadata": {},
   "outputs": [
    {
     "data": {
      "image/png": "[encoded data removed]",
      "text/plain": [
       "<matplotlib.figure.Figure at 0x105332d68>"
      ]
     },
     "metadata": {},
     "output_type": "display_data"
    }
   ],
   "source": [
    "X=np.array([(4,1940),(9,2960),(9,4630),(78,1528),(90,2040),(50,3700),(467,14815),(509,15200),(290,15700),(215,6045)])\n",
    "\n",
    "x1 = np.array(X[:,0])\n",
    "x2 = np.array(X[:,1])\n",
    "\n",
    "fig, ax = plt.subplots()\n",
    "ax.scatter(x1,x2)\n",
    "ax.set(xlabel='Seats count', ylabel='Distance range (km)',\n",
    "       title='Aircrafts')\n",
    "ax.grid()\n",
    "plt.show()"
   ]
  },
  {
   "cell_type": "code",
   "execution_count": 3,
   "metadata": {},
   "outputs": [],
   "source": [
    "data = np.array(X)\n",
    "X_norm = data/data.max(0)"
   ]
  },
  {
   "cell_type": "code",
   "execution_count": 4,
   "metadata": {},
   "outputs": [
    {
     "name": "stdout",
     "output_type": "stream",
     "text": [
      "[[ 0.00785855  0.12356688]\n",
      " [ 0.01768173  0.18853503]\n",
      " [ 0.01768173  0.29490446]\n",
      " [ 0.15324165  0.09732484]\n",
      " [ 0.17681729  0.12993631]\n",
      " [ 0.09823183  0.23566879]\n",
      " [ 0.91748527  0.94363057]\n",
      " [ 1.          0.96815287]\n",
      " [ 0.5697446   1.        ]\n",
      " [ 0.42239686  0.38503185]]\n"
     ]
    }
   ],
   "source": [
    "print(X_norm)"
   ]
  },
  {
   "cell_type": "markdown",
   "metadata": {},
   "source": [
    "## Fuzzy k-means"
   ]
  },
  {
   "cell_type": "code",
   "execution_count": 5,
   "metadata": {},
   "outputs": [],
   "source": [
    "centers = []\n",
    "groups = 2 \n",
    "\n",
    "def select_centers():\n",
    "    global centers\n",
    "    global groups\n",
    "    \n",
    "    counter = 0\n",
    "    while counter < groups:\n",
    "        centers.append((random.random(), random.random()))\n",
    "        counter += 1\n",
    "select_centers()"
   ]
  },
  {
   "cell_type": "code",
   "execution_count": 6,
   "metadata": {},
   "outputs": [],
   "source": [
    "data_set = X_norm\n",
    "\n",
    "m = 2.0\n",
    "error_margin = 0.01\n",
    "\n",
    "assignation=np.zeros((len(X),groups))\n",
    "centers=[]\n",
    "select_centers()"
   ]
  },
  {
   "cell_type": "code",
   "execution_count": 7,
   "metadata": {},
   "outputs": [],
   "source": [
    "def calculate_distance(x,v):\n",
    "    return math.sqrt((x[0]-v[0])**2+(x[1]-v[1])**2)"
   ]
  },
  {
   "cell_type": "code",
   "execution_count": 8,
   "metadata": {},
   "outputs": [],
   "source": [
    "def calculate_new_centers(u):\n",
    "    global centers\n",
    "    new_centers=[]\n",
    "    for c in range(groups):\n",
    "        u_x_vector=np.zeros(2)\n",
    "        u_scalar=0.0\n",
    "        for i in range(len(data_set)):\n",
    "            u_scalar = u_scalar+(u[i][c]**m)\n",
    "            u_x_vector=np.add(u_x_vector,np.multiply(u[i][c]**m,data_set[i]))\n",
    "        new_centers.append(np.divide(u_x_vector,u_scalar))\n",
    "    centers=new_centers"
   ]
  },
  {
   "cell_type": "code",
   "execution_count": 9,
   "metadata": {},
   "outputs": [],
   "source": [
    "def calculate_differences(new_assignation):\n",
    "    global assignation    \n",
    "    return np.sum(np.abs(np.subtract(assignation,new_assignation)))"
   ]
  },
  {
   "cell_type": "code",
   "execution_count": 10,
   "metadata": {},
   "outputs": [],
   "source": [
    "def calculate_u(x,i):\n",
    "    global centers\n",
    "    if i == 0:\n",
    "        sum=1.0+(calculate_distance(x, centers[0])/calculate_distance(x, centers[1]))**2\n",
    "    else:\n",
    "        sum=1.0+(calculate_distance(x, centers[1])/calculate_distance(x, centers[0]))**2\n",
    "    return sum**-1"
   ]
  },
  {
   "cell_type": "code",
   "execution_count": 11,
   "metadata": {},
   "outputs": [
    {
     "name": "stdout",
     "output_type": "stream",
     "text": [
      "[(0.1431550842947421, 0.8718151968221924), (0.643669758221887, 0.9745834587359893)]\n"
     ]
    }
   ],
   "source": [
    "print(centers)"
   ]
  },
  {
   "cell_type": "code",
   "execution_count": 12,
   "metadata": {},
   "outputs": [],
   "source": [
    "def cluster():\n",
    "    global assignation    \n",
    "    global error_margin    \n",
    "    global groups\n",
    "    difference_limit_not_achieved=True\n",
    "    iter=0\n",
    "    while difference_limit_not_achieved:\n",
    "        new_assignation=[]\n",
    "        for i in range(len(data_set)):\n",
    "            new_assignation_vector=[]\n",
    "            for k in range(groups):\n",
    "                new_assignation_vector.append(calculate_u(data_set[i],k))\n",
    "            new_assignation.append(new_assignation_vector)\n",
    "        calculate_new_centers(new_assignation)\n",
    "\n",
    "        if iter>0:\n",
    "            if calculate_differences(new_assignation) < error_margin:\n",
    "                difference_limit_not_achieved=False\n",
    "        assignation=new_assignation\n",
    "        iter=iter+1"
   ]
  },
  {
   "cell_type": "code",
   "execution_count": 13,
   "metadata": {},
   "outputs": [],
   "source": [
    "cluster()"
   ]
  },
  {
   "cell_type": "code",
   "execution_count": 14,
   "metadata": {},
   "outputs": [
    {
     "name": "stdout",
     "output_type": "stream",
     "text": [
      "[array([ 0.1124021 ,  0.19895626]), array([ 0.83354829,  0.96018437])]\n"
     ]
    }
   ],
   "source": [
    "print(centers)"
   ]
  },
  {
   "cell_type": "code",
   "execution_count": 15,
   "metadata": {},
   "outputs": [
    {
     "name": "stdout",
     "output_type": "stream",
     "text": [
      "[[0.9881297751471932, 0.01187022485280676], [0.9928586719632815, 0.007141328036718628], [0.983860644249144, 0.016139355750856045], [0.9901617330870529, 0.009838266912947187], [0.9921052273989537, 0.007894772601046285], [0.9985472103114951, 0.0014527896885049147], [0.006068076982786611, 0.9939319230172134], [0.019766661303278678, 0.9802333386967212], [0.07711114759077196, 0.922888852409228], [0.792567947111039, 0.20743205288896097]]\n"
     ]
    }
   ],
   "source": [
    "print(assignation)"
   ]
  },
  {
   "cell_type": "code",
   "execution_count": 16,
   "metadata": {},
   "outputs": [],
   "source": [
    "red = X_norm[np.where(np.array(assignation)[:,0]>0.5)]\n",
    "blue = X_norm[np.where(np.array(assignation)[:,1]>0.5)]"
   ]
  },
  {
   "cell_type": "code",
   "execution_count": 17,
   "metadata": {},
   "outputs": [
    {
     "data": {
      "image/png": "[encoded data removed]",
      "text/plain": [
       "<matplotlib.figure.Figure at 0x1053327f0>"
      ]
     },
     "metadata": {},
     "output_type": "display_data"
    }
   ],
   "source": [
    "fig, ax = plt.subplots()\n",
    "\n",
    "ax.scatter(blue[:,0],blue[:,1],c='blue')\n",
    "ax.scatter(red[:,0],red[:,1],c='red')\n",
    "ax.scatter(np.array(centers)[:,0],np.array(centers)[:,1],c='black')\n",
    "ax.set(xlabel='Seats count', ylabel='Distance range (km)',\n",
    "       title='Aircrafts (clusters)')\n",
    "ax.grid()\n",
    "plt.show()"
   ]
  },
  {
   "cell_type": "markdown",
   "metadata": {},
   "source": [
    "## Possibilistic K-means"
   ]
  },
  {
   "cell_type": "code",
   "execution_count": 18,
   "metadata": {},
   "outputs": [],
   "source": [
    "data_set = X_norm\n",
    "\n",
    "error_rate = 0.01\n",
    "m = 2.0\n",
    "groups = 2\n",
    "assignation = np.random.rand(len(X), groups)"
   ]
  },
  {
   "cell_type": "code",
   "execution_count": 19,
   "metadata": {},
   "outputs": [
    {
     "name": "stdout",
     "output_type": "stream",
     "text": [
      "[[ 0.00988264  0.57442739]\n",
      " [ 0.65975375  0.67088012]\n",
      " [ 0.80014957  0.65514621]\n",
      " [ 0.73966782  0.9642712 ]\n",
      " [ 0.05630767  0.92799352]\n",
      " [ 0.27520103  0.01862791]\n",
      " [ 0.00196489  0.8930791 ]\n",
      " [ 0.62347303  0.20636175]\n",
      " [ 0.36319806  0.25836037]\n",
      " [ 0.76838583  0.06891387]]\n"
     ]
    }
   ],
   "source": [
    "print(assignation)"
   ]
  },
  {
   "cell_type": "markdown",
   "metadata": {},
   "source": [
    "Select centers randomly"
   ]
  },
  {
   "cell_type": "code",
   "execution_count": 20,
   "metadata": {},
   "outputs": [],
   "source": [
    "centers = []\n",
    "\n",
    "def select_centers():\n",
    "    global centers\n",
    "    global groups\n",
    "    \n",
    "    counter = 0\n",
    "    while counter < groups:\n",
    "        centers.append((random.random(), random.random()))\n",
    "        counter += 1\n",
    "select_centers()"
   ]
  },
  {
   "cell_type": "code",
   "execution_count": 21,
   "metadata": {},
   "outputs": [
    {
     "name": "stdout",
     "output_type": "stream",
     "text": [
      "[(0.48386058040290925, 0.7258931432994293), (0.19593635844854296, 0.5825879541673041)]\n"
     ]
    }
   ],
   "source": [
    "print(centers)"
   ]
  },
  {
   "cell_type": "code",
   "execution_count": 22,
   "metadata": {},
   "outputs": [],
   "source": [
    "def calculate_new_centers(u):\n",
    "    global centers\n",
    "    new_centers=[]\n",
    "    for c in range(groups):\n",
    "        u_x_vector=np.zeros(2)\n",
    "        u_scalar=0.0\n",
    "        for i in range(len(data_set)):\n",
    "            u_scalar = u_scalar+(u[i][c]**m)\n",
    "            u_x_vector=np.add(u_x_vector,np.multiply(u[i][c]**m,data_set[i]))\n",
    "        new_centers.append(np.divide(u_x_vector,u_scalar))\n",
    "    centers=new_centers"
   ]
  },
  {
   "cell_type": "markdown",
   "metadata": {},
   "source": [
    "#### Calculate mahalanobis distance:\n",
    "\n",
    "\\begin{equation}\n",
    " d =  \\sqrt{(x - v)^T * C^{-1} * (x - v)}   ,\n",
    "\\end{equation}\n",
    "\n",
    "where C is a covariance matrix"
   ]
  },
  {
   "cell_type": "code",
   "execution_count": 23,
   "metadata": {},
   "outputs": [],
   "source": [
    "def mahalanobis_distance(point, center, cov_inv):\n",
    "    assert len(point) == 2, \"mahal_dist function is defined for 2 dimensional elements\"\n",
    "    assert len(center) == 2, \"mahal_dist function is defined for 2 dimensional elements\"\n",
    "#     diff = np.subtract(x, v)\n",
    "#     arr = np.vstack([x, v])\n",
    "#     covariance = np.cov(arr.T)\n",
    "#     cov_inv = np.linalg.inv(covariance)\n",
    "    x = np.asarray(point)\n",
    "    y = np.asarray(center)\n",
    "    diff = np.subtract(point, center)\n",
    "    distance = np.dot(np.dot(diff, cov_inv), diff.T)\n",
    "    if distance > 0:\n",
    "        distance = math.sqrt(distance)\n",
    "    else:\n",
    "        print(\"Something is wrong, the value should be positive to allow square operation\")\n",
    "    return distance"
   ]
  },
  {
   "cell_type": "markdown",
   "metadata": {},
   "source": [
    "#### Calculate assignation matrix in possibilistic k-means (PCM):\n",
    "    \n",
    "\\begin{equation}\n",
    " \\mu_{ik}= (1 + (\\frac {D_{ikA}} {\\eta_i}) ^ \\frac {2} {m-1} ) ^{-1},\n",
    "\\end{equation}\n",
    "\n",
    "Where possibilistic distribution measure:\n",
    "\n",
    "\\begin{equation}\n",
    " \\eta_i = \\frac {\\sum_{k=1}^{M}(\\mu_{ik})^m D_{ikA}^2} {\\sum_{k=1}^{M}(\\mu_{ik})^m},\n",
    "\\end{equation}\n",
    "\n",
    "and \n",
    "\n",
    "\\begin{equation}\n",
    " D_{ikA}^2 = \\|x_k - v_i\\|_A^2 = (x_k - v_i)^T A (x_k - v_i)\n",
    "\\end{equation}\n",
    "\n",
    "\n",
    "\n",
    "I'm guessing this distance D is exactly *mahalanobis_distance*"
   ]
  },
  {
   "cell_type": "code",
   "execution_count": 24,
   "metadata": {},
   "outputs": [],
   "source": [
    "def calculate_eta(u, cov_inv):\n",
    "    global m\n",
    "    global centers\n",
    "    global groups\n",
    "    \n",
    "    eta = []\n",
    "    for i in range(len(data_set)):\n",
    "        numerator = 0.0\n",
    "        denominator = 0.0\n",
    "        for g in range(groups):\n",
    "#             numerator += (u[i][g] ** m) * (mahalanobis_distance(g, i) ** 2)\n",
    "            numerator += (u[i][g] ** m) * (mahalanobis_distance(data_set[i], centers[g], cov_inv) ** 2)\n",
    "            denominator += (u[i][g] ** m)\n",
    "        eta.append(np.divide(numerator, denominator))\n",
    "    return eta"
   ]
  },
  {
   "cell_type": "code",
   "execution_count": 25,
   "metadata": {},
   "outputs": [],
   "source": [
    "def calculate_u(distance, eta):\n",
    "    global centers\n",
    "    global m\n",
    "    fraction = np.divide(distance, eta)\n",
    "    result = 1 + fraction ** (2 / (m - 1))\n",
    "    return result ** (-1)"
   ]
  },
  {
   "cell_type": "code",
   "execution_count": 33,
   "metadata": {},
   "outputs": [],
   "source": [
    "def calculate_differences(new_assignation):\n",
    "    global assignation    \n",
    "    return np.sum(np.abs(np.subtract(assignation,new_assignation)))"
   ]
  },
  {
   "cell_type": "code",
   "execution_count": 34,
   "metadata": {},
   "outputs": [],
   "source": [
    "def cluster():\n",
    "    global assignation\n",
    "    global error_rate\n",
    "    global groups\n",
    "    difference_limit_not_achieved = True\n",
    "    iters = 0\n",
    "    \n",
    "    arr = np.asarray(data_set).T\n",
    "    C_matrix = np.cov(arr)\n",
    "    C_inv = np.linalg.inv(C_matrix)\n",
    "    \n",
    "    while difference_limit_not_achieved:\n",
    "        new_assignation = []\n",
    "        eta = calculate_eta(assignation, C_inv)\n",
    "        \n",
    "        for i in range(len(data_set)):\n",
    "            new_assignation_vector=[]\n",
    "            \n",
    "            for g in range(groups):\n",
    "                distance = mahalanobis_distance(data_set[i], centers[g], C_inv)\n",
    "                new_assignation_vector.append(calculate_u(distance, eta[i]))\n",
    "\n",
    "            new_assignation.append(new_assignation_vector)  \n",
    "        calculate_new_centers(new_assignation)\n",
    "        \n",
    "        if iters > 0:\n",
    "            if calculate_differences(new_assignation) < error_rate:\n",
    "                difference_limit_not_achieved = False\n",
    "        assignation = new_assignation\n",
    "        iters+=1"
   ]
  },
  {
   "cell_type": "code",
   "execution_count": 35,
   "metadata": {},
   "outputs": [],
   "source": [
    "cluster()"
   ]
  },
  {
   "cell_type": "code",
   "execution_count": 36,
   "metadata": {},
   "outputs": [
    {
     "name": "stdout",
     "output_type": "stream",
     "text": [
      "[array([ 0.41139142,  0.52704686]), array([ 0.41125239,  0.52691797])]\n"
     ]
    }
   ],
   "source": [
    "print(centers)"
   ]
  },
  {
   "cell_type": "code",
   "execution_count": 37,
   "metadata": {},
   "outputs": [
    {
     "name": "stdout",
     "output_type": "stream",
     "text": [
      "[[0.54534587994007966, 0.54554824731995755], [0.52784743258306654, 0.52805853935980906], [0.63727685524836575, 0.63739938989804379], [0.66213029952105951, 0.66220466340347095], [0.63134267167748781, 0.63142324015485252], [0.41010809963873496, 0.41037126424762899], [0.6565815623516108, 0.65643790711142869], [0.74024550077996643, 0.74015036483611552], [0.81700762701033181, 0.81699314588548266], [0.47996409607108836, 0.47996269459151802]]\n"
     ]
    }
   ],
   "source": [
    "print(assignation)"
   ]
  },
  {
   "cell_type": "code",
   "execution_count": 38,
   "metadata": {},
   "outputs": [],
   "source": [
    "red = X_norm[np.where(np.array(assignation)[:,0]>0.5)]\n",
    "blue = X_norm[np.where(np.array(assignation)[:,1]>0.5)]"
   ]
  },
  {
   "cell_type": "code",
   "execution_count": 39,
   "metadata": {},
   "outputs": [
    {
     "data": {
      "image/png": "[encoded data removed]",
      "text/plain": [
       "<matplotlib.figure.Figure at 0x10e2469e8>"
      ]
     },
     "metadata": {},
     "output_type": "display_data"
    }
   ],
   "source": [
    "fig, ax = plt.subplots()\n",
    "\n",
    "ax.scatter(blue[:,0],blue[:,1],c='blue')\n",
    "ax.scatter(red[:,0],red[:,1],c='red')\n",
    "ax.scatter(np.array(centers)[:,0],np.array(centers)[:,1],c='black')\n",
    "ax.set(xlabel='Seats count', ylabel='Distance range (km)',\n",
    "       title='Aircrafts (clusters)')\n",
    "ax.grid()\n",
    "plt.show()\n"
   ]
  },
  {
   "cell_type": "code",
   "execution_count": null,
   "metadata": {},
   "outputs": [],
   "source": []
  }
 ],
 "metadata": {
  "kernelspec": {
   "display_name": "Python 3",
   "language": "python",
   "name": "python3"
  },
  "language_info": {
   "codemirror_mode": {
    "name": "ipython",
    "version": 3
   },
   "file_extension": ".py",
   "mimetype": "text/x-python",
   "name": "python",
   "nbconvert_exporter": "python",
   "pygments_lexer": "ipython3",
   "version": "3.6.4"
  }
 },
 "nbformat": 4,
 "nbformat_minor": 2
}
