{
 "cells": [
  {
   "cell_type": "markdown",
   "metadata": {},
   "source": [
    "# Implementation of Ridge Regression based on Multiple Regression with Gradient Descent\n",
    "\n",
    "sklearn values will be taken as referene ones"
   ]
  },
  {
   "cell_type": "code",
   "execution_count": 5,
   "metadata": {},
   "outputs": [],
   "source": [
    "import os\n",
    "import math\n",
    "import pandas as pd\n",
    "import numpy as np\n",
    "from sklearn.linear_model import LinearRegression, Ridge, Lasso, SGDClassifier\n",
    "from statsmodels.regression.linear_model import OLS\n",
    "import matplotlib.pyplot as plt\n",
    "%matplotlib inline\n",
    "from sklearn.model_selection import train_test_split"
   ]
  },
  {
   "cell_type": "code",
   "execution_count": 6,
   "metadata": {},
   "outputs": [
    {
     "name": "stdout",
     "output_type": "stream",
     "text": [
      "['glass.csv', 'dataset_4.txt', 'dataset_3.txt', 'dataset_2.txt', 'dataset_1.txt', 'ign.csv', 'spam.csv']\n"
     ]
    }
   ],
   "source": [
    "print(os.listdir('datasets'))"
   ]
  },
  {
   "cell_type": "code",
   "execution_count": 50,
   "metadata": {},
   "outputs": [
    {
     "name": "stdout",
     "output_type": "stream",
     "text": [
      "<class 'pandas.core.frame.DataFrame'>\n",
      "Int64Index: 205 entries, 0 to 204\n",
      "Data columns (total 26 columns):\n",
      "horsepower           205 non-null float64\n",
      "highway-mpg          205 non-null float64\n",
      "symboling            205 non-null float64\n",
      "normalized-losses    205 non-null float64\n",
      "make                 205 non-null object\n",
      "fuel-type            205 non-null object\n",
      "aspiration           205 non-null object\n",
      "num-of-doors         205 non-null object\n",
      "body-style           205 non-null object\n",
      "drive-wheels         205 non-null object\n",
      "engine-location      205 non-null object\n",
      "wheel-base           205 non-null float64\n",
      "length               205 non-null float64\n",
      "width                205 non-null float64\n",
      "height               205 non-null float64\n",
      "curb-weight          205 non-null float64\n",
      "engine-type          205 non-null object\n",
      "num-of-cylinders     205 non-null object\n",
      "engine-size          205 non-null float64\n",
      "fuel-system          205 non-null object\n",
      "bore                 205 non-null float64\n",
      "stroke               205 non-null float64\n",
      "compression-ratio    205 non-null float64\n",
      "peak-rpm             205 non-null float64\n",
      "city-mpg             205 non-null float64\n",
      "price                205 non-null float64\n",
      "dtypes: float64(16), object(10)\n",
      "memory usage: 43.2+ KB\n"
     ]
    }
   ],
   "source": [
    "full_data = pd.read_csv('datasets/dataset_2.txt')\n",
    "full_data.info()"
   ]
  },
  {
   "cell_type": "code",
   "execution_count": 51,
   "metadata": {},
   "outputs": [
    {
     "data": {
      "text/plain": [
       "array(['four', 'six', 'eight', 'five'], dtype=object)"
      ]
     },
     "execution_count": 51,
     "metadata": {},
     "output_type": "execute_result"
    }
   ],
   "source": [
    "full_data['num-of-cylinders'].unique()"
   ]
  },
  {
   "cell_type": "code",
   "execution_count": 52,
   "metadata": {},
   "outputs": [
    {
     "data": {
      "text/plain": [
       "array([ 4.,  6.,  8.,  5.])"
      ]
     },
     "execution_count": 52,
     "metadata": {},
     "output_type": "execute_result"
    }
   ],
   "source": [
    "full_data['num-of-cylinders'] = full_data['num-of-cylinders'].map({'four': 4., 'six': 6., 'eight': 8., 'five': 5.})\n",
    "full_data['num-of-cylinders'].unique()"
   ]
  },
  {
   "cell_type": "code",
   "execution_count": 53,
   "metadata": {},
   "outputs": [],
   "source": [
    "data = full_data[['horsepower', 'highway-mpg', 'length', 'width', 'height', \\\n",
    "                  'num-of-cylinders', 'wheel-base',  'curb-weight', 'engine-size', 'peak-rpm', \\\n",
    "                  'city-mpg', \\\n",
    "                  'price']]"
   ]
  },
  {
   "cell_type": "code",
   "execution_count": 69,
   "metadata": {},
   "outputs": [
    {
     "name": "stdout",
     "output_type": "stream",
     "text": [
      "<class 'pandas.core.frame.DataFrame'>\n",
      "Int64Index: 205 entries, 0 to 204\n",
      "Data columns (total 12 columns):\n",
      "horsepower          205 non-null float64\n",
      "highway-mpg         205 non-null float64\n",
      "length              205 non-null float64\n",
      "width               205 non-null float64\n",
      "height              205 non-null float64\n",
      "num-of-cylinders    205 non-null float64\n",
      "wheel-base          205 non-null float64\n",
      "curb-weight         205 non-null float64\n",
      "engine-size         205 non-null float64\n",
      "peak-rpm            205 non-null float64\n",
      "city-mpg            205 non-null float64\n",
      "price               205 non-null float64\n",
      "dtypes: float64(12)\n",
      "memory usage: 30.8 KB\n"
     ]
    }
   ],
   "source": [
    "data.info()"
   ]
  },
  {
   "cell_type": "code",
   "execution_count": 70,
   "metadata": {},
   "outputs": [
    {
     "name": "stdout",
     "output_type": "stream",
     "text": [
      "<class 'pandas.core.frame.DataFrame'>\n",
      "Int64Index: 205 entries, 0 to 204\n",
      "Data columns (total 11 columns):\n",
      "horsepower          205 non-null float64\n",
      "highway-mpg         205 non-null float64\n",
      "length              205 non-null float64\n",
      "width               205 non-null float64\n",
      "height              205 non-null float64\n",
      "num-of-cylinders    205 non-null float64\n",
      "wheel-base          205 non-null float64\n",
      "curb-weight         205 non-null float64\n",
      "engine-size         205 non-null float64\n",
      "peak-rpm            205 non-null float64\n",
      "city-mpg            205 non-null float64\n",
      "dtypes: float64(11)\n",
      "memory usage: 29.2 KB\n"
     ]
    }
   ],
   "source": [
    "X = data.iloc[:, 0:11]\n",
    "X.info()"
   ]
  },
  {
   "cell_type": "code",
   "execution_count": 200,
   "metadata": {},
   "outputs": [
    {
     "data": {
      "text/html": [
       "<div>\n",
       "<style scoped>\n",
       "    .dataframe tbody tr th:only-of-type {\n",
       "        vertical-align: middle;\n",
       "    }\n",
       "\n",
       "    .dataframe tbody tr th {\n",
       "        vertical-align: top;\n",
       "    }\n",
       "\n",
       "    .dataframe thead th {\n",
       "        text-align: right;\n",
       "    }\n",
       "</style>\n",
       "<table border=\"1\" class=\"dataframe\">\n",
       "  <thead>\n",
       "    <tr style=\"text-align: right;\">\n",
       "      <th></th>\n",
       "      <th>horsepower</th>\n",
       "      <th>highway-mpg</th>\n",
       "      <th>length</th>\n",
       "      <th>width</th>\n",
       "      <th>height</th>\n",
       "      <th>num-of-cylinders</th>\n",
       "      <th>wheel-base</th>\n",
       "      <th>curb-weight</th>\n",
       "      <th>engine-size</th>\n",
       "      <th>peak-rpm</th>\n",
       "      <th>city-mpg</th>\n",
       "    </tr>\n",
       "  </thead>\n",
       "  <tbody>\n",
       "    <tr>\n",
       "      <th>count</th>\n",
       "      <td>205.000000</td>\n",
       "      <td>205.00000</td>\n",
       "      <td>205.000000</td>\n",
       "      <td>205.000000</td>\n",
       "      <td>205.000000</td>\n",
       "      <td>205.000000</td>\n",
       "      <td>205.000000</td>\n",
       "      <td>205.000000</td>\n",
       "      <td>205.000000</td>\n",
       "      <td>205.000000</td>\n",
       "      <td>205.000000</td>\n",
       "    </tr>\n",
       "    <tr>\n",
       "      <th>mean</th>\n",
       "      <td>102.591133</td>\n",
       "      <td>31.04878</td>\n",
       "      <td>174.464390</td>\n",
       "      <td>65.856585</td>\n",
       "      <td>53.810244</td>\n",
       "      <td>4.317073</td>\n",
       "      <td>99.109756</td>\n",
       "      <td>2541.629268</td>\n",
       "      <td>125.868293</td>\n",
       "      <td>5095.073892</td>\n",
       "      <td>25.551220</td>\n",
       "    </tr>\n",
       "    <tr>\n",
       "      <th>std</th>\n",
       "      <td>35.784832</td>\n",
       "      <td>6.48736</td>\n",
       "      <td>11.971631</td>\n",
       "      <td>1.970274</td>\n",
       "      <td>2.403743</td>\n",
       "      <td>0.864298</td>\n",
       "      <td>6.160461</td>\n",
       "      <td>468.564191</td>\n",
       "      <td>41.017419</td>\n",
       "      <td>514.114858</td>\n",
       "      <td>5.717496</td>\n",
       "    </tr>\n",
       "    <tr>\n",
       "      <th>min</th>\n",
       "      <td>52.000000</td>\n",
       "      <td>16.00000</td>\n",
       "      <td>150.000000</td>\n",
       "      <td>63.400000</td>\n",
       "      <td>49.400000</td>\n",
       "      <td>4.000000</td>\n",
       "      <td>89.500000</td>\n",
       "      <td>1889.000000</td>\n",
       "      <td>90.000000</td>\n",
       "      <td>4150.000000</td>\n",
       "      <td>14.000000</td>\n",
       "    </tr>\n",
       "    <tr>\n",
       "      <th>25%</th>\n",
       "      <td>70.000000</td>\n",
       "      <td>26.00000</td>\n",
       "      <td>166.800000</td>\n",
       "      <td>64.200000</td>\n",
       "      <td>52.000000</td>\n",
       "      <td>4.000000</td>\n",
       "      <td>94.500000</td>\n",
       "      <td>2204.000000</td>\n",
       "      <td>98.000000</td>\n",
       "      <td>4800.000000</td>\n",
       "      <td>21.000000</td>\n",
       "    </tr>\n",
       "    <tr>\n",
       "      <th>50%</th>\n",
       "      <td>95.000000</td>\n",
       "      <td>30.00000</td>\n",
       "      <td>173.000000</td>\n",
       "      <td>65.500000</td>\n",
       "      <td>54.100000</td>\n",
       "      <td>4.000000</td>\n",
       "      <td>97.200000</td>\n",
       "      <td>2385.000000</td>\n",
       "      <td>110.000000</td>\n",
       "      <td>5200.000000</td>\n",
       "      <td>25.000000</td>\n",
       "    </tr>\n",
       "    <tr>\n",
       "      <th>75%</th>\n",
       "      <td>116.000000</td>\n",
       "      <td>34.00000</td>\n",
       "      <td>183.500000</td>\n",
       "      <td>66.500000</td>\n",
       "      <td>55.700000</td>\n",
       "      <td>4.000000</td>\n",
       "      <td>102.400000</td>\n",
       "      <td>2912.000000</td>\n",
       "      <td>141.000000</td>\n",
       "      <td>5500.000000</td>\n",
       "      <td>30.000000</td>\n",
       "    </tr>\n",
       "    <tr>\n",
       "      <th>max</th>\n",
       "      <td>207.000000</td>\n",
       "      <td>47.00000</td>\n",
       "      <td>208.100000</td>\n",
       "      <td>72.000000</td>\n",
       "      <td>59.800000</td>\n",
       "      <td>8.000000</td>\n",
       "      <td>120.900000</td>\n",
       "      <td>3900.000000</td>\n",
       "      <td>308.000000</td>\n",
       "      <td>6600.000000</td>\n",
       "      <td>38.000000</td>\n",
       "    </tr>\n",
       "  </tbody>\n",
       "</table>\n",
       "</div>"
      ],
      "text/plain": [
       "       horsepower  highway-mpg      length       width      height  \\\n",
       "count  205.000000    205.00000  205.000000  205.000000  205.000000   \n",
       "mean   102.591133     31.04878  174.464390   65.856585   53.810244   \n",
       "std     35.784832      6.48736   11.971631    1.970274    2.403743   \n",
       "min     52.000000     16.00000  150.000000   63.400000   49.400000   \n",
       "25%     70.000000     26.00000  166.800000   64.200000   52.000000   \n",
       "50%     95.000000     30.00000  173.000000   65.500000   54.100000   \n",
       "75%    116.000000     34.00000  183.500000   66.500000   55.700000   \n",
       "max    207.000000     47.00000  208.100000   72.000000   59.800000   \n",
       "\n",
       "       num-of-cylinders  wheel-base  curb-weight  engine-size     peak-rpm  \\\n",
       "count        205.000000  205.000000   205.000000   205.000000   205.000000   \n",
       "mean           4.317073   99.109756  2541.629268   125.868293  5095.073892   \n",
       "std            0.864298    6.160461   468.564191    41.017419   514.114858   \n",
       "min            4.000000   89.500000  1889.000000    90.000000  4150.000000   \n",
       "25%            4.000000   94.500000  2204.000000    98.000000  4800.000000   \n",
       "50%            4.000000   97.200000  2385.000000   110.000000  5200.000000   \n",
       "75%            4.000000  102.400000  2912.000000   141.000000  5500.000000   \n",
       "max            8.000000  120.900000  3900.000000   308.000000  6600.000000   \n",
       "\n",
       "         city-mpg  \n",
       "count  205.000000  \n",
       "mean    25.551220  \n",
       "std      5.717496  \n",
       "min     14.000000  \n",
       "25%     21.000000  \n",
       "50%     25.000000  \n",
       "75%     30.000000  \n",
       "max     38.000000  "
      ]
     },
     "execution_count": 200,
     "metadata": {},
     "output_type": "execute_result"
    }
   ],
   "source": [
    "X.describe()"
   ]
  },
  {
   "cell_type": "code",
   "execution_count": 74,
   "metadata": {},
   "outputs": [
    {
     "data": {
      "text/plain": [
       "count      205.000000\n",
       "mean     12635.575610\n",
       "std       7635.389258\n",
       "min       5118.000000\n",
       "25%       7957.000000\n",
       "50%       9959.000000\n",
       "75%      15510.000000\n",
       "max      45400.000000\n",
       "Name: price, dtype: float64"
      ]
     },
     "execution_count": 74,
     "metadata": {},
     "output_type": "execute_result"
    }
   ],
   "source": [
    "y = data.iloc[:, 11]\n",
    "y.describe()"
   ]
  },
  {
   "cell_type": "code",
   "execution_count": 400,
   "metadata": {},
   "outputs": [],
   "source": [
    "X_train, X_test, y_train, y_test = train_test_split(X, y, test_size = 0.2)"
   ]
  },
  {
   "cell_type": "code",
   "execution_count": 401,
   "metadata": {},
   "outputs": [
    {
     "name": "stdout",
     "output_type": "stream",
     "text": [
      "(164, 11)\n"
     ]
    }
   ],
   "source": [
    "print(X_train.shape)"
   ]
  },
  {
   "cell_type": "markdown",
   "metadata": {},
   "source": [
    "## Multiple Regression"
   ]
  },
  {
   "cell_type": "code",
   "execution_count": 445,
   "metadata": {},
   "outputs": [],
   "source": [
    "class MultipleRegression:\n",
    "    def __init__(self, learning_rate=0.001, iterations=1000):\n",
    "        self.lr = learning_rate\n",
    "        self.iters = iterations\n",
    "    \n",
    "    def fit(self, X_train, y_train):\n",
    "        self.X = X_train\n",
    "        self.y = y_train\n",
    "        self.n = X_train.shape[0]\n",
    "        ones = np.ones((self.n, 1))\n",
    "        \n",
    "        self.X = np.concatenate((self.X, ones), axis=1)\n",
    "        self.Xtrans = np.transpose(self.X)\n",
    "        \n",
    "        temp = np.dot(self.Xtrans, self.X)\n",
    "        temp = np.linalg.pinv(temp)\n",
    "        \n",
    "        self.coefs = np.dot(temp, self.Xtrans)\n",
    "        self.coefs = np.dot(self.coefs, self.y)\n",
    "        self.coef = self.coefs[-1]\n",
    "        self.coefs = self.coefs[:-1]\n",
    "        \n",
    "    def score(self, X_test, y_test):\n",
    "        self.X_test = X_test\n",
    "        self.y_test = y_test\n",
    "        \n",
    "        self.pred = np.dot(self.X_test, self.coefs) + self.coef\n",
    "        \n",
    "        squared_error = np.sum((self.y_test - self.pred) ** 2)\n",
    "        mean = np.mean(self.y_test)\n",
    "        variance = np.sum((self.y_test - mean) ** 2)\n",
    "        \n",
    "        self.rsquared = 1 - squared_error/variance\n",
    "        return self.rsquared, self.pred\n"
   ]
  },
  {
   "cell_type": "code",
   "execution_count": 446,
   "metadata": {},
   "outputs": [],
   "source": [
    "multiple_reg = MultipleRegression()\n",
    "multiple_reg.fit(X_train, y_train)\n",
    "multiple_train_rsquared, _ = multiple_reg.score(X_train, y_train)\n",
    "multiple_test_rsquared, _ = multiple_reg.score(X_test, y_test)"
   ]
  },
  {
   "cell_type": "code",
   "execution_count": 448,
   "metadata": {},
   "outputs": [
    {
     "name": "stdout",
     "output_type": "stream",
     "text": [
      "Multiple regression R^2 score: training  0.89654470857\n",
      "Multiple regression R^2 score: test  0.883698420389\n"
     ]
    }
   ],
   "source": [
    "print('Multiple regression R^2 score: training ', multiple_train_rsquared)\n",
    "print('Multiple regression R^2 score: test ', multiple_test_rsquared)"
   ]
  },
  {
   "cell_type": "markdown",
   "metadata": {},
   "source": [
    "## Multiple Regression with Gradient Descent Algorithm"
   ]
  },
  {
   "cell_type": "code",
   "execution_count": 467,
   "metadata": {},
   "outputs": [],
   "source": [
    "class MultipleRegression_GD:\n",
    "    def __init__(self, learning_rate=0.001, iterations=1000):\n",
    "        self.lr = learning_rate\n",
    "        self.iters = iterations\n",
    "    \n",
    "    def fit(self, X_train, y_train):\n",
    "        self.X = X_train\n",
    "        self.y = y_train\n",
    "        self.n = X_train.shape[0]\n",
    "        ones = np.ones((self.n, 1))\n",
    "        \n",
    "        self.X = np.concatenate((self.X, ones), axis=1)\n",
    "        self.Xtrans = np.transpose(self.X)\n",
    "        \n",
    "        temp = np.dot(self.Xtrans, self.X)\n",
    "        temp = np.linalg.pinv(temp)\n",
    "        \n",
    "        self.coefs = np.dot(temp, self.Xtrans)\n",
    "        self.coefs = np.dot(self.coefs, self.y)\n",
    "        self.coef = self.coefs[-1]\n",
    "        self.coefs = self.coefs[:-1]\n",
    "        self.coefs = self.apply_gradient()\n",
    "        \n",
    "    def apply_gradient(self):\n",
    "        N = float(len(self.y))\n",
    "        self.betas = np.zeros(len(self.y) + 1)\n",
    "        betas_grad = np.zeros(len(self.y) + 1)\n",
    "        for i in range(self.iters):\n",
    "            counter = 0\n",
    "            for j in self.y.keys():\n",
    "                y = self.y[j]\n",
    "                count = (2/N)\n",
    "                for k in range(len(self.X[counter])):\n",
    "                    if k == 0:\n",
    "                        betas_grad[0] -= count * (self.y[j] - ((self.betas[0] * k) + self.betas[0]))\n",
    "                        continue\n",
    "                    x = self.X[k]\n",
    "                    betas_grad[k] -= count * k * (self.y[j] - ((self.betas[k] * k) + self.betas[0]))\n",
    "            for j in range(len(self.X) + 1):\n",
    "                self.betas[j] -= (self.lr * betas_grad[j])\n",
    "            counter += 1\n",
    "        return self.betas\n",
    "        \n",
    "    def score(self, X_test, y_test):\n",
    "        self.X_test = X_test\n",
    "        self.y_test = y_test\n",
    "        \n",
    "        self.pred = np.dot(self.X_test, self.coefs) + self.coef\n",
    "        \n",
    "        squared_error = np.sum((self.y_test - self.pred) ** 2)\n",
    "        mean = np.mean(self.y_test)\n",
    "        variance = np.sum((self.y_test - mean) ** 2)\n",
    "        \n",
    "        self.rsquared = 1 - squared_error/variance\n",
    "        return self.rsquared, self.pred\n"
   ]
  },
  {
   "cell_type": "code",
   "execution_count": 468,
   "metadata": {},
   "outputs": [
    {
     "ename": "ValueError",
     "evalue": "shapes (164,11) and (165,) not aligned: 11 (dim 1) != 165 (dim 0)",
     "output_type": "error",
     "traceback": [
      "\u001b[0;31m---------------------------------------------------------------------------\u001b[0m",
      "\u001b[0;31mValueError\u001b[0m                                Traceback (most recent call last)",
      "\u001b[0;32m<ipython-input-468-76aa7ea6aa66>\u001b[0m in \u001b[0;36m<module>\u001b[0;34m()\u001b[0m\n\u001b[1;32m      1\u001b[0m \u001b[0mmultipleGD_reg\u001b[0m \u001b[0;34m=\u001b[0m \u001b[0mMultipleRegression_GD\u001b[0m\u001b[0;34m(\u001b[0m\u001b[0;34m)\u001b[0m\u001b[0;34m\u001b[0m\u001b[0m\n\u001b[1;32m      2\u001b[0m \u001b[0mmultipleGD_reg\u001b[0m\u001b[0;34m.\u001b[0m\u001b[0mfit\u001b[0m\u001b[0;34m(\u001b[0m\u001b[0mX_train\u001b[0m\u001b[0;34m,\u001b[0m \u001b[0my_train\u001b[0m\u001b[0;34m)\u001b[0m\u001b[0;34m\u001b[0m\u001b[0m\n\u001b[0;32m----> 3\u001b[0;31m \u001b[0mmultipleGD_train_rsquared\u001b[0m\u001b[0;34m,\u001b[0m \u001b[0m_\u001b[0m \u001b[0;34m=\u001b[0m \u001b[0mmultipleGD_reg\u001b[0m\u001b[0;34m.\u001b[0m\u001b[0mscore\u001b[0m\u001b[0;34m(\u001b[0m\u001b[0mX_train\u001b[0m\u001b[0;34m,\u001b[0m \u001b[0my_train\u001b[0m\u001b[0;34m)\u001b[0m\u001b[0;34m\u001b[0m\u001b[0m\n\u001b[0m\u001b[1;32m      4\u001b[0m \u001b[0mmultipleGD_test_rsquared\u001b[0m\u001b[0;34m,\u001b[0m \u001b[0m_\u001b[0m \u001b[0;34m=\u001b[0m \u001b[0mmultipleGD_reg\u001b[0m\u001b[0;34m.\u001b[0m\u001b[0mscore\u001b[0m\u001b[0;34m(\u001b[0m\u001b[0mX_test\u001b[0m\u001b[0;34m,\u001b[0m \u001b[0my_test\u001b[0m\u001b[0;34m)\u001b[0m\u001b[0;34m\u001b[0m\u001b[0m\n",
      "\u001b[0;32m<ipython-input-467-9f4820df9897>\u001b[0m in \u001b[0;36mscore\u001b[0;34m(self, X_test, y_test)\u001b[0m\n\u001b[1;32m     46\u001b[0m         \u001b[0mself\u001b[0m\u001b[0;34m.\u001b[0m\u001b[0my_test\u001b[0m \u001b[0;34m=\u001b[0m \u001b[0my_test\u001b[0m\u001b[0;34m\u001b[0m\u001b[0m\n\u001b[1;32m     47\u001b[0m \u001b[0;34m\u001b[0m\u001b[0m\n\u001b[0;32m---> 48\u001b[0;31m         \u001b[0mself\u001b[0m\u001b[0;34m.\u001b[0m\u001b[0mpred\u001b[0m \u001b[0;34m=\u001b[0m \u001b[0mnp\u001b[0m\u001b[0;34m.\u001b[0m\u001b[0mdot\u001b[0m\u001b[0;34m(\u001b[0m\u001b[0mself\u001b[0m\u001b[0;34m.\u001b[0m\u001b[0mX_test\u001b[0m\u001b[0;34m,\u001b[0m \u001b[0mself\u001b[0m\u001b[0;34m.\u001b[0m\u001b[0mcoefs\u001b[0m\u001b[0;34m)\u001b[0m \u001b[0;34m+\u001b[0m \u001b[0mself\u001b[0m\u001b[0;34m.\u001b[0m\u001b[0mcoef\u001b[0m\u001b[0;34m\u001b[0m\u001b[0m\n\u001b[0m\u001b[1;32m     49\u001b[0m \u001b[0;34m\u001b[0m\u001b[0m\n\u001b[1;32m     50\u001b[0m         \u001b[0msquared_error\u001b[0m \u001b[0;34m=\u001b[0m \u001b[0mnp\u001b[0m\u001b[0;34m.\u001b[0m\u001b[0msum\u001b[0m\u001b[0;34m(\u001b[0m\u001b[0;34m(\u001b[0m\u001b[0mself\u001b[0m\u001b[0;34m.\u001b[0m\u001b[0my_test\u001b[0m \u001b[0;34m-\u001b[0m \u001b[0mself\u001b[0m\u001b[0;34m.\u001b[0m\u001b[0mpred\u001b[0m\u001b[0;34m)\u001b[0m \u001b[0;34m**\u001b[0m \u001b[0;36m2\u001b[0m\u001b[0;34m)\u001b[0m\u001b[0;34m\u001b[0m\u001b[0m\n",
      "\u001b[0;31mValueError\u001b[0m: shapes (164,11) and (165,) not aligned: 11 (dim 1) != 165 (dim 0)"
     ]
    }
   ],
   "source": [
    "multipleGD_reg = MultipleRegression_GD()\n",
    "multipleGD_reg.fit(X_train, y_train)\n",
    "multipleGD_train_rsquared, _ = multipleGD_reg.score(X_train, y_train)\n",
    "multipleGD_test_rsquared, _ = multipleGD_reg.score(X_test, y_test)"
   ]
  },
  {
   "cell_type": "code",
   "execution_count": null,
   "metadata": {},
   "outputs": [],
   "source": [
    "print('Multiple regression Gradient Descent R^2 score: training ', multipleGD_train_rsquared)\n",
    "print('Multiple regression Gradient Descent R^2 score: test ', multipleGD_test_rsquared)"
   ]
  },
  {
   "cell_type": "markdown",
   "metadata": {},
   "source": [
    "## Merging Multiple Regression with Ridge Regression"
   ]
  },
  {
   "cell_type": "code",
   "execution_count": 469,
   "metadata": {},
   "outputs": [],
   "source": [
    "class RidgeRegression:\n",
    "    def __init__(self, alpha=1.0):\n",
    "        self.alpha = alpha\n",
    "    \n",
    "    def fit(self, X, y):\n",
    "        self.X = X\n",
    "        self.y = y\n",
    "        self.ridge_reg = self.ridge()\n",
    "        \n",
    "    def ridge(self):\n",
    "        n, p = np.shape(self.X)\n",
    "        self.X = np.concatenate((self.X, np.sqrt(10.0**self.alpha) * np.identity(p)), axis=0)\n",
    "        self.y = np.concatenate((self.y, np.zeros(p)), axis=0)\n",
    "        self.model = MultipleRegression()\n",
    "        self.model.fit(self.X, self.y)\n",
    "        \n",
    "    def score(self, X_test, y_test):\n",
    "        scores, preds = self.model.score(X_test, y_test)\n",
    "        return scores"
   ]
  },
  {
   "cell_type": "code",
   "execution_count": 470,
   "metadata": {},
   "outputs": [],
   "source": [
    "ridge_reg_impl = RidgeRegression(alpha=1.0)\n",
    "ridge_reg_impl.fit(X_train, y_train)\n",
    "train_rsquared_impl = ridge_reg_impl.score(X_train, y_train)\n",
    "test_rsquared_impl = ridge_reg_impl.score(X_test, y_test)"
   ]
  },
  {
   "cell_type": "code",
   "execution_count": 471,
   "metadata": {},
   "outputs": [
    {
     "name": "stdout",
     "output_type": "stream",
     "text": [
      "Ridge regression R^2 score: training  0.864506955701\n",
      "Ridge regression R^2 score: test  0.828512907241\n"
     ]
    }
   ],
   "source": [
    "print('Ridge regression R^2 score: training ', train_rsquared_impl)\n",
    "print('Ridge regression R^2 score: test ', test_rsquared_impl)"
   ]
  },
  {
   "cell_type": "markdown",
   "metadata": {},
   "source": [
    "## Compare with sklearn Ridge"
   ]
  },
  {
   "cell_type": "code",
   "execution_count": 472,
   "metadata": {},
   "outputs": [],
   "source": [
    "ridge_reg = Ridge(alpha=1.0)\n",
    "ridge_reg.fit(X_train, y_train)\n",
    "train_rsquared = ridge_reg.score(X_train, y_train)\n",
    "test_rsquared = ridge_reg.score(X_test, y_test)"
   ]
  },
  {
   "cell_type": "code",
   "execution_count": 473,
   "metadata": {},
   "outputs": [
    {
     "name": "stdout",
     "output_type": "stream",
     "text": [
      "Ridge regression R^2 score: training  0.896518347461\n",
      "Ridge regression R^2 score: test  0.883883030722\n"
     ]
    }
   ],
   "source": [
    "print('Ridge regression R^2 score: training ', train_rsquared)\n",
    "print('Ridge regression R^2 score: test ', test_rsquared)"
   ]
  },
  {
   "cell_type": "markdown",
   "metadata": {},
   "source": [
    "## Compare with sklearn Linear Regression"
   ]
  },
  {
   "cell_type": "code",
   "execution_count": 474,
   "metadata": {},
   "outputs": [],
   "source": [
    "linear_reg = LinearRegression()\n",
    "linear_reg.fit(X_train, y_train)\n",
    "train_rsquared_linear = linear_reg.score(X_train, y_train)\n",
    "test_rsquared_linear = linear_reg.score(X_test, y_test)"
   ]
  },
  {
   "cell_type": "code",
   "execution_count": 475,
   "metadata": {},
   "outputs": [
    {
     "name": "stdout",
     "output_type": "stream",
     "text": [
      "Linear regression R^2 score: training  0.89654470857\n",
      "Linear regression R^2 score: test  0.883698420389\n"
     ]
    }
   ],
   "source": [
    "print('Linear regression R^2 score: training ', train_rsquared_linear)\n",
    "print('Linear regression R^2 score: test ', test_rsquared_linear)"
   ]
  },
  {
   "cell_type": "markdown",
   "metadata": {},
   "source": [
    "## Comparison between lambda parameteres for Ridge"
   ]
  },
  {
   "cell_type": "code",
   "execution_count": 476,
   "metadata": {},
   "outputs": [],
   "source": [
    "lambdas = np.linspace(-7, 7, 100)\n",
    "r2_train, r2_test = np.zeros(len(lambdas)), np.zeros(len(lambdas)) \n",
    "r2_train_impl, r2_test_impl = np.zeros(len(lambdas)), np.zeros(len(lambdas))"
   ]
  },
  {
   "cell_type": "code",
   "execution_count": 477,
   "metadata": {},
   "outputs": [
    {
     "name": "stdout",
     "output_type": "stream",
     "text": [
      "Lambda -7.0 R2_train:  0.89654470857 R2_test:  0.883698420389 R2_train_impl:  0.865421057124 R2_train_impl:  0.825905331595\n",
      "Lambda -6.86 R2_train:  0.896518347461 R2_test:  0.883883030722 R2_train_impl:  0.864506955701 R2_train_impl:  0.828512907241\n",
      "Lambda -6.72 R2_train:  0.896446268511 R2_test:  0.884007497371 R2_train_impl:  0.855364388624 R2_train_impl:  0.828661344008\n",
      "Lambda -6.58 R2_train:  0.896337381883 R2_test:  0.884082227337 R2_train_impl:  0.848022783939 R2_train_impl:  0.828229391299\n",
      "Lambda -6.4399999999999995 R2_train:  0.896198845707 R2_test:  0.884115680067 R2_train_impl:  0.842432585359 R2_train_impl:  0.831025717431\n",
      "Lambda -6.3 R2_train:  0.896036441841 R2_test:  0.884114773426 R2_train_impl:  0.812050227731 R2_train_impl:  0.822484425346\n",
      "Lambda -6.16 R2_train:  0.895854863438 R2_test:  0.884085196139 R2_train_impl:  0.735829171845 R2_train_impl:  0.720187070388\n",
      "Lambda -6.02 R2_train:  0.895657936826 R2_test:  0.88403165024 R2_train_impl:  0.704153365858 R2_train_impl:  0.659742187765\n",
      "Lambda -5.88 R2_train:  0.895448794005 R2_test:  0.883958040686 R2_train_impl:  0.482922145537 R2_train_impl:  0.48233577878\n",
      "Lambda -5.74 R2_train:  0.895230007709 R2_test:  0.883867624726 R2_train_impl:  0.00174464746193 R2_train_impl:  -0.000152153238945\n",
      "Lambda -5.6 R2_train:  0.895003697853 R2_test:  0.883763130368 R2_train_impl:  -0.00980972675134 R2_train_impl:  -0.0122972225103\n",
      "Lambda -5.46 R2_train:  0.894771615951 R2_test:  0.883646850939 R2_train_impl:  -0.00393494578456 R2_train_impl:  -0.00657504613758\n",
      "Lambda -5.32 R2_train:  0.894535212453 R2_test:  0.883520721012 R2_train_impl:  -0.00132385618552 R2_train_impl:  -0.00401887651924\n",
      "Lambda -5.18 R2_train:  0.89429569075 R2_test:  0.88338637772 R2_train_impl:  -0.000426486167592 R2_train_impl:  -0.00313992024386\n",
      "Lambda -5.04 R2_train:  0.8940540507 R2_test:  0.883245210537 R2_train_impl:  -0.000135648135421 R2_train_impl:  -0.00285502142844\n",
      "Lambda -4.9 R2_train:  0.893811123892 R2_test:  0.883098401886 R2_train_impl:  -4.29737419803e-05 R2_train_impl:  -0.00276423716696\n",
      "Lambda -4.76 R2_train:  0.893567602332 R2_test:  0.882946960433 R2_train_impl:  -1.3597290675e-05 R2_train_impl:  -0.00273545964022\n",
      "Lambda -4.62 R2_train:  0.893324061883 R2_test:  0.882791748506 R2_train_impl:  -4.3006208732e-06 R2_train_impl:  -0.00272635264085\n",
      "Lambda -4.48 R2_train:  0.893080981496 R2_test:  0.882633504768 R2_train_impl:  -2.7448767175 R2_train_impl:  -2.79108119503\n",
      "Lambda -4.34 R2_train:  0.892838759048 R2_test:  0.882472863043 R2_train_impl:  -2.74487674467 R2_train_impl:  -2.79108122338\n",
      "Lambda -4.2 R2_train:  0.892597724424 R2_test:  0.882310368006 R2_train_impl:  -2.74487674739 R2_train_impl:  -2.79108122622\n",
      "Lambda -4.0600000000000005 R2_train:  0.892358150377 R2_test:  0.882146488316 R2_train_impl:  -2.74487674766 R2_train_impl:  -2.7910812265\n",
      "Lambda -3.92 R2_train:  0.892120261547 R2_test:  0.881981627634 R2_train_impl:  -2.74487674769 R2_train_impl:  -2.79108122653\n",
      "Lambda -3.78 R2_train:  0.891884241999 R2_test:  0.881816133905 R2_train_impl:  -2.74487674769 R2_train_impl:  -2.79108122653\n",
      "Lambda -3.64 R2_train:  0.891650241521 R2_test:  0.881650307203 R2_train_impl:  -2.74487674769 R2_train_impl:  -2.79108122653\n",
      "Lambda -3.5 R2_train:  0.891418380914 R2_test:  0.881484406379 R2_train_impl:  -2.74487674769 R2_train_impl:  -2.79108122653\n",
      "Lambda -3.36 R2_train:  0.891188756433 R2_test:  0.881318654705 R2_train_impl:  -2.74487674769 R2_train_impl:  -2.79108122653\n",
      "Lambda -3.22 R2_train:  0.890961443541 R2_test:  0.881153244695 R2_train_impl:  -2.74487674769 R2_train_impl:  -2.79108122653\n",
      "Lambda -3.08 R2_train:  0.89073650007 R2_test:  0.880988342213 R2_train_impl:  -2.74487674769 R2_train_impl:  -2.79108122653\n",
      "Lambda -2.9400000000000004 R2_train:  0.890513968908 R2_test:  0.880824090002 R2_train_impl:  -2.74487674769 R2_train_impl:  -2.79108122653\n",
      "Lambda -2.8 R2_train:  0.890293880264 R2_test:  0.880660610706 R2_train_impl:  -2.74487674769 R2_train_impl:  -2.79108122653\n",
      "Lambda -2.66 R2_train:  0.890076253609 R2_test:  0.880498009477 R2_train_impl:  -2.74487674769 R2_train_impl:  -2.79108122653\n",
      "Lambda -2.5199999999999996 R2_train:  0.889861099314 R2_test:  0.880336376219 R2_train_impl:  -2.74487674769 R2_train_impl:  -2.79108122653\n",
      "Lambda -2.38 R2_train:  0.889648420054 R2_test:  0.88017578753 R2_train_impl:  -2.74487674769 R2_train_impl:  -2.79108122653\n",
      "Lambda -2.24 R2_train:  0.889438212004 R2_test:  0.880016308381 R2_train_impl:  -2.74487674769 R2_train_impl:  -2.79108122653\n",
      "Lambda -2.0999999999999996 R2_train:  0.889230465864 R2_test:  0.879857993579 R2_train_impl:  -2.74487674769 R2_train_impl:  -2.79108122653\n",
      "Lambda -1.96 R2_train:  0.889025167727 R2_test:  0.879700889031 R2_train_impl:  -2.74487674769 R2_train_impl:  -2.79108122653\n",
      "Lambda -1.8200000000000003 R2_train:  0.888822299836 R2_test:  0.879545032849 R2_train_impl:  -2.74487674769 R2_train_impl:  -2.79108122653\n",
      "Lambda -1.6799999999999997 R2_train:  0.888621841219 R2_test:  0.879390456313 R2_train_impl:  -2.74487674769 R2_train_impl:  -2.79108122653\n",
      "Lambda -1.54 R2_train:  0.888423768246 R2_test:  0.879237184711 R2_train_impl:  -2.74487674769 R2_train_impl:  -2.79108122653\n",
      "Lambda -1.4000000000000004 R2_train:  0.888228055095 R2_test:  0.879085238078 R2_train_impl:  -2.74487674769 R2_train_impl:  -2.79108122653\n",
      "Lambda -1.2599999999999998 R2_train:  0.888034674163 R2_test:  0.878934631836 R2_train_impl:  -2.74487674769 R2_train_impl:  -2.79108122653\n",
      "Lambda -1.12 R2_train:  0.88784359641 R2_test:  0.878785377362 R2_train_impl:  -2.74487674769 R2_train_impl:  -2.79108122653\n",
      "Lambda -0.9800000000000004 R2_train:  0.887654791661 R2_test:  0.878637482485 R2_train_impl:  -2.74487674769 R2_train_impl:  -2.79108122653\n",
      "Lambda -0.8399999999999999 R2_train:  0.88746822886 R2_test:  0.878490951921 R2_train_impl:  -2.74487674769 R2_train_impl:  -2.79108122653\n",
      "Lambda -0.7000000000000002 R2_train:  0.887283876289 R2_test:  0.878345787659 R2_train_impl:  -2.74487674769 R2_train_impl:  -2.79108122653\n",
      "Lambda -0.5599999999999996 R2_train:  0.887101701762 R2_test:  0.8782019893 R2_train_impl:  -2.74487674769 R2_train_impl:  -2.79108122653\n",
      "Lambda -0.41999999999999993 R2_train:  0.886921672779 R2_test:  0.878059554354 R2_train_impl:  -2.74487674769 R2_train_impl:  -2.79108122653\n",
      "Lambda -0.28000000000000025 R2_train:  0.886743756669 R2_test:  0.877918478508 R2_train_impl:  -2.74487674769 R2_train_impl:  -2.79108122653\n",
      "Lambda -0.13999999999999968 R2_train:  0.886567920705 R2_test:  0.877778755853 R2_train_impl:  -2.74487674769 R2_train_impl:  -2.79108122653\n",
      "Lambda 0.0 R2_train:  0.886394132207 R2_test:  0.877640379097 R2_train_impl:  -2.74487674769 R2_train_impl:  -2.79108122653\n",
      "Lambda 0.13999999999999968 R2_train:  0.886222358624 R2_test:  0.877503339742 R2_train_impl:  -2.74487674769 R2_train_impl:  -2.79108122653\n",
      "Lambda 0.28000000000000025 R2_train:  0.886052567609 R2_test:  0.877367628251 R2_train_impl:  -2.74487674769 R2_train_impl:  -2.79108122653\n",
      "Lambda 0.41999999999999993 R2_train:  0.885884727077 R2_test:  0.877233234187 R2_train_impl:  -2.74487674769 R2_train_impl:  -2.79108122653\n",
      "Lambda 0.5599999999999996 R2_train:  0.885718805257 R2_test:  0.87710014634 R2_train_impl:  -2.74487674769 R2_train_impl:  -2.79108122653\n",
      "Lambda 0.7000000000000002 R2_train:  0.885554770736 R2_test:  0.876968352845 R2_train_impl:  -2.74487674769 R2_train_impl:  -2.79108122653\n",
      "Lambda 0.8399999999999999 R2_train:  0.885392592492 R2_test:  0.876837841273 R2_train_impl:  -2.74487674769 R2_train_impl:  -2.79108122653\n",
      "Lambda 0.9800000000000004 R2_train:  0.885232239921 R2_test:  0.87670859873 R2_train_impl:  -2.74487674769 R2_train_impl:  -2.79108122653\n",
      "Lambda 1.1199999999999992 R2_train:  0.885073682867 R2_test:  0.876580611925 R2_train_impl:  -2.74487674769 R2_train_impl:  -2.79108122653\n",
      "Lambda 1.2599999999999998 R2_train:  0.884916891631 R2_test:  0.876453867249 R2_train_impl:  -2.74487674769 R2_train_impl:  -2.79108122653\n",
      "Lambda 1.4000000000000004 R2_train:  0.884761836994 R2_test:  0.876328350831 R2_train_impl:  -2.74487674769 R2_train_impl:  -2.79108122653\n",
      "Lambda 1.5399999999999991 R2_train:  0.884608490221 R2_test:  0.876204048595 R2_train_impl:  -2.74487674769 R2_train_impl:  -2.79108122653\n",
      "Lambda 1.6799999999999997 R2_train:  0.884456823074 R2_test:  0.876080946308 R2_train_impl:  -2.74487674769 R2_train_impl:  -2.79108122653\n",
      "Lambda 1.8200000000000003 R2_train:  0.884306807813 R2_test:  0.875959029624 R2_train_impl:  -2.74487674769 R2_train_impl:  -2.79108122653\n",
      "Lambda 1.9600000000000009 R2_train:  0.884158417201 R2_test:  0.875838284123 R2_train_impl:  -2.74487674769 R2_train_impl:  -2.79108122653\n",
      "Lambda 2.0999999999999996 R2_train:  0.884011624503 R2_test:  0.87571869534 R2_train_impl:  -2.74487674769 R2_train_impl:  -2.79108122653\n",
      "Lambda 2.24 R2_train:  0.883866403486 R2_test:  0.875600248802 R2_train_impl:  -2.74487674769 R2_train_impl:  -2.79108122653\n",
      "Lambda 2.380000000000001 R2_train:  0.88372272842 R2_test:  0.875482930048 R2_train_impl:  -2.74487674769 R2_train_impl:  -2.79108122653\n",
      "Lambda 2.5199999999999996 R2_train:  0.883580574069 R2_test:  0.875366724656 R2_train_impl:  -2.74487674769 R2_train_impl:  -2.79108122653\n",
      "Lambda 2.66 R2_train:  0.883439915688 R2_test:  0.875251618263 R2_train_impl:  -2.74487674769 R2_train_impl:  -2.79108122653\n",
      "Lambda 2.8000000000000007 R2_train:  0.883300729021 R2_test:  0.87513759658 R2_train_impl:  -2.74487674769 R2_train_impl:  -2.79108122653\n",
      "Lambda 2.9399999999999995 R2_train:  0.883162990291 R2_test:  0.875024645411 R2_train_impl:  -2.74487674769 R2_train_impl:  -2.79108122653\n",
      "Lambda 3.08 R2_train:  0.883026676194 R2_test:  0.874912750668 R2_train_impl:  -2.74487674769 R2_train_impl:  -2.79108122653\n",
      "Lambda 3.2200000000000006 R2_train:  0.882891763895 R2_test:  0.874801898376 R2_train_impl:  -2.74487674769 R2_train_impl:  -2.79108122653\n",
      "Lambda 3.3599999999999994 R2_train:  0.882758231017 R2_test:  0.874692074692 R2_train_impl:  -2.74487674769 R2_train_impl:  -2.79108122653\n",
      "Lambda 3.5 R2_train:  0.882626055633 R2_test:  0.874583265906 R2_train_impl:  -2.74487674769 R2_train_impl:  -2.79108122653\n",
      "Lambda 3.6400000000000006 R2_train:  0.88249521626 R2_test:  0.874475458456 R2_train_impl:  -2.74487674769 R2_train_impl:  -2.79108122653\n",
      "Lambda 3.7799999999999994 R2_train:  0.88236569185 R2_test:  0.874368638928 R2_train_impl:  -2.74487674769 R2_train_impl:  -2.79108122653\n",
      "Lambda 3.92 R2_train:  0.882237461781 R2_test:  0.874262794065 R2_train_impl:  -2.74487674769 R2_train_impl:  -2.79108122653\n",
      "Lambda 4.0600000000000005 R2_train:  0.88211050585 R2_test:  0.874157910773 R2_train_impl:  -2.74487674769 R2_train_impl:  -2.79108122653\n",
      "Lambda 4.199999999999999 R2_train:  0.881984804262 R2_test:  0.874053976119 R2_train_impl:  -2.74487674769 R2_train_impl:  -2.79108122653\n",
      "Lambda 4.34 R2_train:  0.881860337623 R2_test:  0.87395097734 R2_train_impl:  -2.74487674769 R2_train_impl:  -2.79108122653\n",
      "Lambda 4.48 R2_train:  0.881737086932 R2_test:  0.873848901843 R2_train_impl:  -2.74487674769 R2_train_impl:  -2.79108122653\n",
      "Lambda 4.619999999999999 R2_train:  0.881615033571 R2_test:  0.873747737206 R2_train_impl:  -2.74487674769 R2_train_impl:  -2.79108122653\n",
      "Lambda 4.76 R2_train:  0.881494159298 R2_test:  0.873647471179 R2_train_impl:  -2.74487674769 R2_train_impl:  -2.79108122653\n",
      "Lambda 4.9 R2_train:  0.881374446238 R2_test:  0.873548091689 R2_train_impl:  -2.74487674769 R2_train_impl:  -2.79108122653\n",
      "Lambda 5.039999999999999 R2_train:  0.881255876875 R2_test:  0.873449586833 R2_train_impl:  -2.74487674769 R2_train_impl:  -2.79108122653\n",
      "Lambda 5.18 R2_train:  0.881138434043 R2_test:  0.873351944885 R2_train_impl:  -2.74487674769 R2_train_impl:  -2.79108122653\n",
      "Lambda 5.32 R2_train:  0.881022100921 R2_test:  0.873255154292 R2_train_impl:  -2.74487674769 R2_train_impl:  -2.79108122653\n",
      "Lambda 5.460000000000001 R2_train:  0.88090686102 R2_test:  0.873159203676 R2_train_impl:  -2.74487674769 R2_train_impl:  -2.79108122653\n",
      "Lambda 5.6 R2_train:  0.88079269818 R2_test:  0.873064081829 R2_train_impl:  -2.74487674769 R2_train_impl:  -2.79108122653\n",
      "Lambda 5.74 R2_train:  0.880679596561 R2_test:  0.872969777715 R2_train_impl:  -2.74487674769 R2_train_impl:  -2.79108122653\n",
      "Lambda 5.880000000000001 R2_train:  0.880567540634 R2_test:  0.872876280471 R2_train_impl:  -2.74487674769 R2_train_impl:  -2.79108122653\n",
      "Lambda 6.02 R2_train:  0.880456515177 R2_test:  0.872783579399 R2_train_impl:  -2.74487674769 R2_train_impl:  -2.79108122653\n",
      "Lambda 6.16 R2_train:  0.880346505264 R2_test:  0.87269166397 R2_train_impl:  -2.74487674769 R2_train_impl:  -2.79108122653\n",
      "Lambda 6.300000000000001 R2_train:  0.88023749626 R2_test:  0.872600523822 R2_train_impl:  -2.74487674769 R2_train_impl:  -2.79108122653\n",
      "Lambda 6.4399999999999995 R2_train:  0.880129473816 R2_test:  0.872510148754 R2_train_impl:  -2.74487674769 R2_train_impl:  -2.79108122653\n",
      "Lambda 6.58 R2_train:  0.88002242386 R2_test:  0.872420528728 R2_train_impl:  -2.74487674769 R2_train_impl:  -2.79108122653\n",
      "Lambda 6.720000000000001 R2_train:  0.879916332588 R2_test:  0.872331653867 R2_train_impl:  -2.74487674769 R2_train_impl:  -2.79108122653\n",
      "Lambda 6.859999999999999 R2_train:  0.879811186466 R2_test:  0.872243514451 R2_train_impl:  -2.74487674769 R2_train_impl:  -2.79108122653\n"
     ]
    }
   ],
   "source": [
    "for i in range(len(lambdas)):\n",
    "    model = Ridge(alpha=i)\n",
    "    model_impl = RidgeRegression(alpha=i)\n",
    "    model.fit(X_train, y_train)\n",
    "    model_impl.fit(X_train, y_train)\n",
    "    \n",
    "    r2_train[i] = model.score(X_train, y_train)\n",
    "    r2_test[i] = model.score(X_test, y_test)\n",
    "    r2_train_impl[i] = model_impl.score(X_train, y_train)\n",
    "    r2_test_impl[i] = model_impl.score(X_test, y_test)\n",
    "    print('Lambda', (-7 + i*14/100), 'R2_train: ', r2_train[i], 'R2_test: ', r2_test[i], 'R2_train_impl: ', r2_train_impl[i], 'R2_train_impl: ', r2_test_impl[i])"
   ]
  },
  {
   "cell_type": "code",
   "execution_count": 478,
   "metadata": {},
   "outputs": [
    {
     "data": {
      "image/png": "[encoded data removed]",
      "text/plain": [
       "<matplotlib.figure.Figure at 0x1a23b2f588>"
      ]
     },
     "metadata": {},
     "output_type": "display_data"
    }
   ],
   "source": [
    "fig, ax = plt.subplots(1, 1, figsize=(22, 10))\n",
    "ax.semilogx(10.0**lambdas, (r2_train), c='b', label='Ridge: Train')\n",
    "ax.semilogx(10.0**lambdas, (r2_test), c='r', label='Ridge: Test')\n",
    "ax.semilogx(10.0**lambdas, (r2_train_impl), c='g', label='Ridge Implemented: Train')\n",
    "ax.semilogx(10.0**lambdas, (r2_test_impl), c='y', label='Ridge Implemented: Test')\n",
    "\n",
    "ax.set_xlabel('Regularization parameter $\\lambda$')\n",
    "ax.set_ylabel(r'$R^2$ score')\n",
    "ax.legend(loc = 'best')\n",
    "plt.grid()"
   ]
  },
  {
   "cell_type": "markdown",
   "metadata": {},
   "source": [
    "# Sum up\n",
    "### Multiple regression\n",
    "My own multiple regression got the same scores as sklearn linear regression which shows me that definitely my solution is proper\n",
    "\n",
    "### Ridge regression\n",
    "As far as scores are similar to the ones from sklearn, it still needs some updates to perform well\n",
    "\n",
    "### The plot\n",
    "The plots shows some weird values for various lambdas. It should be resolved\n",
    "\n",
    "### Gradient descent\n",
    "As it is visible above, there's an error, because of miss-matching in sizes between arrays. Needs to be resolved."
   ]
  },
  {
   "cell_type": "code",
   "execution_count": null,
   "metadata": {},
   "outputs": [],
   "source": []
  }
 ],
 "metadata": {
  "kernelspec": {
   "display_name": "Python 3",
   "language": "python",
   "name": "python3"
  },
  "language_info": {
   "codemirror_mode": {
    "name": "ipython",
    "version": 3
   },
   "file_extension": ".py",
   "mimetype": "text/x-python",
   "name": "python",
   "nbconvert_exporter": "python",
   "pygments_lexer": "ipython3",
   "version": "3.6.4"
  }
 },
 "nbformat": 4,
 "nbformat_minor": 2
}
