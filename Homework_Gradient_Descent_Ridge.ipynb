{
 "cells": [
  {
   "cell_type": "markdown",
   "metadata": {},
   "source": [
    "# Implementation of Ridge Regression based on Multiple Regression with Gradient Descent\n",
    "\n",
    "sklearn values will be taken as referene ones"
   ]
  },
  {
   "cell_type": "code",
   "execution_count": 5,
   "metadata": {},
   "outputs": [],
   "source": [
    "import os\n",
    "import math\n",
    "import pandas as pd\n",
    "import numpy as np\n",
    "from sklearn.linear_model import LinearRegression, Ridge, Lasso, SGDClassifier\n",
    "from statsmodels.regression.linear_model import OLS\n",
    "import matplotlib.pyplot as plt\n",
    "%matplotlib inline\n",
    "from sklearn.model_selection import train_test_split"
   ]
  },
  {
   "cell_type": "code",
   "execution_count": 6,
   "metadata": {},
   "outputs": [
    {
     "name": "stdout",
     "output_type": "stream",
     "text": [
      "['glass.csv', 'dataset_4.txt', 'dataset_3.txt', 'dataset_2.txt', 'dataset_1.txt', 'ign.csv', 'spam.csv']\n"
     ]
    }
   ],
   "source": [
    "print(os.listdir('datasets'))"
   ]
  },
  {
   "cell_type": "code",
   "execution_count": 50,
   "metadata": {},
   "outputs": [
    {
     "name": "stdout",
     "output_type": "stream",
     "text": [
      "<class 'pandas.core.frame.DataFrame'>\n",
      "Int64Index: 205 entries, 0 to 204\n",
      "Data columns (total 26 columns):\n",
      "horsepower           205 non-null float64\n",
      "highway-mpg          205 non-null float64\n",
      "symboling            205 non-null float64\n",
      "normalized-losses    205 non-null float64\n",
      "make                 205 non-null object\n",
      "fuel-type            205 non-null object\n",
      "aspiration           205 non-null object\n",
      "num-of-doors         205 non-null object\n",
      "body-style           205 non-null object\n",
      "drive-wheels         205 non-null object\n",
      "engine-location      205 non-null object\n",
      "wheel-base           205 non-null float64\n",
      "length               205 non-null float64\n",
      "width                205 non-null float64\n",
      "height               205 non-null float64\n",
      "curb-weight          205 non-null float64\n",
      "engine-type          205 non-null object\n",
      "num-of-cylinders     205 non-null object\n",
      "engine-size          205 non-null float64\n",
      "fuel-system          205 non-null object\n",
      "bore                 205 non-null float64\n",
      "stroke               205 non-null float64\n",
      "compression-ratio    205 non-null float64\n",
      "peak-rpm             205 non-null float64\n",
      "city-mpg             205 non-null float64\n",
      "price                205 non-null float64\n",
      "dtypes: float64(16), object(10)\n",
      "memory usage: 43.2+ KB\n"
     ]
    }
   ],
   "source": [
    "full_data = pd.read_csv('datasets/dataset_2.txt')\n",
    "full_data.info()"
   ]
  },
  {
   "cell_type": "code",
   "execution_count": 51,
   "metadata": {},
   "outputs": [
    {
     "data": {
      "text/plain": [
       "array(['four', 'six', 'eight', 'five'], dtype=object)"
      ]
     },
     "execution_count": 51,
     "metadata": {},
     "output_type": "execute_result"
    }
   ],
   "source": [
    "full_data['num-of-cylinders'].unique()"
   ]
  },
  {
   "cell_type": "code",
   "execution_count": 52,
   "metadata": {},
   "outputs": [
    {
     "data": {
      "text/plain": [
       "array([ 4.,  6.,  8.,  5.])"
      ]
     },
     "execution_count": 52,
     "metadata": {},
     "output_type": "execute_result"
    }
   ],
   "source": [
    "full_data['num-of-cylinders'] = full_data['num-of-cylinders'].map({'four': 4., 'six': 6., 'eight': 8., 'five': 5.})\n",
    "full_data['num-of-cylinders'].unique()"
   ]
  },
  {
   "cell_type": "code",
   "execution_count": 53,
   "metadata": {},
   "outputs": [],
   "source": [
    "data = full_data[['horsepower', 'highway-mpg', 'length', 'width', 'height', \\\n",
    "                  'num-of-cylinders', 'wheel-base',  'curb-weight', 'engine-size', 'peak-rpm', \\\n",
    "                  'city-mpg', \\\n",
    "                  'price']]"
   ]
  },
  {
   "cell_type": "code",
   "execution_count": 69,
   "metadata": {},
   "outputs": [
    {
     "name": "stdout",
     "output_type": "stream",
     "text": [
      "<class 'pandas.core.frame.DataFrame'>\n",
      "Int64Index: 205 entries, 0 to 204\n",
      "Data columns (total 12 columns):\n",
      "horsepower          205 non-null float64\n",
      "highway-mpg         205 non-null float64\n",
      "length              205 non-null float64\n",
      "width               205 non-null float64\n",
      "height              205 non-null float64\n",
      "num-of-cylinders    205 non-null float64\n",
      "wheel-base          205 non-null float64\n",
      "curb-weight         205 non-null float64\n",
      "engine-size         205 non-null float64\n",
      "peak-rpm            205 non-null float64\n",
      "city-mpg            205 non-null float64\n",
      "price               205 non-null float64\n",
      "dtypes: float64(12)\n",
      "memory usage: 30.8 KB\n"
     ]
    }
   ],
   "source": [
    "data.info()"
   ]
  },
  {
   "cell_type": "code",
   "execution_count": 70,
   "metadata": {},
   "outputs": [
    {
     "name": "stdout",
     "output_type": "stream",
     "text": [
      "<class 'pandas.core.frame.DataFrame'>\n",
      "Int64Index: 205 entries, 0 to 204\n",
      "Data columns (total 11 columns):\n",
      "horsepower          205 non-null float64\n",
      "highway-mpg         205 non-null float64\n",
      "length              205 non-null float64\n",
      "width               205 non-null float64\n",
      "height              205 non-null float64\n",
      "num-of-cylinders    205 non-null float64\n",
      "wheel-base          205 non-null float64\n",
      "curb-weight         205 non-null float64\n",
      "engine-size         205 non-null float64\n",
      "peak-rpm            205 non-null float64\n",
      "city-mpg            205 non-null float64\n",
      "dtypes: float64(11)\n",
      "memory usage: 29.2 KB\n"
     ]
    }
   ],
   "source": [
    "X = data.iloc[:, 0:11]\n",
    "X.info()"
   ]
  },
  {
   "cell_type": "code",
   "execution_count": 200,
   "metadata": {},
   "outputs": [
    {
     "data": {
      "text/html": [
       "<div>\n",
       "<style scoped>\n",
       "    .dataframe tbody tr th:only-of-type {\n",
       "        vertical-align: middle;\n",
       "    }\n",
       "\n",
       "    .dataframe tbody tr th {\n",
       "        vertical-align: top;\n",
       "    }\n",
       "\n",
       "    .dataframe thead th {\n",
       "        text-align: right;\n",
       "    }\n",
       "</style>\n",
       "<table border=\"1\" class=\"dataframe\">\n",
       "  <thead>\n",
       "    <tr style=\"text-align: right;\">\n",
       "      <th></th>\n",
       "      <th>horsepower</th>\n",
       "      <th>highway-mpg</th>\n",
       "      <th>length</th>\n",
       "      <th>width</th>\n",
       "      <th>height</th>\n",
       "      <th>num-of-cylinders</th>\n",
       "      <th>wheel-base</th>\n",
       "      <th>curb-weight</th>\n",
       "      <th>engine-size</th>\n",
       "      <th>peak-rpm</th>\n",
       "      <th>city-mpg</th>\n",
       "    </tr>\n",
       "  </thead>\n",
       "  <tbody>\n",
       "    <tr>\n",
       "      <th>count</th>\n",
       "      <td>205.000000</td>\n",
       "      <td>205.00000</td>\n",
       "      <td>205.000000</td>\n",
       "      <td>205.000000</td>\n",
       "      <td>205.000000</td>\n",
       "      <td>205.000000</td>\n",
       "      <td>205.000000</td>\n",
       "      <td>205.000000</td>\n",
       "      <td>205.000000</td>\n",
       "      <td>205.000000</td>\n",
       "      <td>205.000000</td>\n",
       "    </tr>\n",
       "    <tr>\n",
       "      <th>mean</th>\n",
       "      <td>102.591133</td>\n",
       "      <td>31.04878</td>\n",
       "      <td>174.464390</td>\n",
       "      <td>65.856585</td>\n",
       "      <td>53.810244</td>\n",
       "      <td>4.317073</td>\n",
       "      <td>99.109756</td>\n",
       "      <td>2541.629268</td>\n",
       "      <td>125.868293</td>\n",
       "      <td>5095.073892</td>\n",
       "      <td>25.551220</td>\n",
       "    </tr>\n",
       "    <tr>\n",
       "      <th>std</th>\n",
       "      <td>35.784832</td>\n",
       "      <td>6.48736</td>\n",
       "      <td>11.971631</td>\n",
       "      <td>1.970274</td>\n",
       "      <td>2.403743</td>\n",
       "      <td>0.864298</td>\n",
       "      <td>6.160461</td>\n",
       "      <td>468.564191</td>\n",
       "      <td>41.017419</td>\n",
       "      <td>514.114858</td>\n",
       "      <td>5.717496</td>\n",
       "    </tr>\n",
       "    <tr>\n",
       "      <th>min</th>\n",
       "      <td>52.000000</td>\n",
       "      <td>16.00000</td>\n",
       "      <td>150.000000</td>\n",
       "      <td>63.400000</td>\n",
       "      <td>49.400000</td>\n",
       "      <td>4.000000</td>\n",
       "      <td>89.500000</td>\n",
       "      <td>1889.000000</td>\n",
       "      <td>90.000000</td>\n",
       "      <td>4150.000000</td>\n",
       "      <td>14.000000</td>\n",
       "    </tr>\n",
       "    <tr>\n",
       "      <th>25%</th>\n",
       "      <td>70.000000</td>\n",
       "      <td>26.00000</td>\n",
       "      <td>166.800000</td>\n",
       "      <td>64.200000</td>\n",
       "      <td>52.000000</td>\n",
       "      <td>4.000000</td>\n",
       "      <td>94.500000</td>\n",
       "      <td>2204.000000</td>\n",
       "      <td>98.000000</td>\n",
       "      <td>4800.000000</td>\n",
       "      <td>21.000000</td>\n",
       "    </tr>\n",
       "    <tr>\n",
       "      <th>50%</th>\n",
       "      <td>95.000000</td>\n",
       "      <td>30.00000</td>\n",
       "      <td>173.000000</td>\n",
       "      <td>65.500000</td>\n",
       "      <td>54.100000</td>\n",
       "      <td>4.000000</td>\n",
       "      <td>97.200000</td>\n",
       "      <td>2385.000000</td>\n",
       "      <td>110.000000</td>\n",
       "      <td>5200.000000</td>\n",
       "      <td>25.000000</td>\n",
       "    </tr>\n",
       "    <tr>\n",
       "      <th>75%</th>\n",
       "      <td>116.000000</td>\n",
       "      <td>34.00000</td>\n",
       "      <td>183.500000</td>\n",
       "      <td>66.500000</td>\n",
       "      <td>55.700000</td>\n",
       "      <td>4.000000</td>\n",
       "      <td>102.400000</td>\n",
       "      <td>2912.000000</td>\n",
       "      <td>141.000000</td>\n",
       "      <td>5500.000000</td>\n",
       "      <td>30.000000</td>\n",
       "    </tr>\n",
       "    <tr>\n",
       "      <th>max</th>\n",
       "      <td>207.000000</td>\n",
       "      <td>47.00000</td>\n",
       "      <td>208.100000</td>\n",
       "      <td>72.000000</td>\n",
       "      <td>59.800000</td>\n",
       "      <td>8.000000</td>\n",
       "      <td>120.900000</td>\n",
       "      <td>3900.000000</td>\n",
       "      <td>308.000000</td>\n",
       "      <td>6600.000000</td>\n",
       "      <td>38.000000</td>\n",
       "    </tr>\n",
       "  </tbody>\n",
       "</table>\n",
       "</div>"
      ],
      "text/plain": [
       "       horsepower  highway-mpg      length       width      height  \\\n",
       "count  205.000000    205.00000  205.000000  205.000000  205.000000   \n",
       "mean   102.591133     31.04878  174.464390   65.856585   53.810244   \n",
       "std     35.784832      6.48736   11.971631    1.970274    2.403743   \n",
       "min     52.000000     16.00000  150.000000   63.400000   49.400000   \n",
       "25%     70.000000     26.00000  166.800000   64.200000   52.000000   \n",
       "50%     95.000000     30.00000  173.000000   65.500000   54.100000   \n",
       "75%    116.000000     34.00000  183.500000   66.500000   55.700000   \n",
       "max    207.000000     47.00000  208.100000   72.000000   59.800000   \n",
       "\n",
       "       num-of-cylinders  wheel-base  curb-weight  engine-size     peak-rpm  \\\n",
       "count        205.000000  205.000000   205.000000   205.000000   205.000000   \n",
       "mean           4.317073   99.109756  2541.629268   125.868293  5095.073892   \n",
       "std            0.864298    6.160461   468.564191    41.017419   514.114858   \n",
       "min            4.000000   89.500000  1889.000000    90.000000  4150.000000   \n",
       "25%            4.000000   94.500000  2204.000000    98.000000  4800.000000   \n",
       "50%            4.000000   97.200000  2385.000000   110.000000  5200.000000   \n",
       "75%            4.000000  102.400000  2912.000000   141.000000  5500.000000   \n",
       "max            8.000000  120.900000  3900.000000   308.000000  6600.000000   \n",
       "\n",
       "         city-mpg  \n",
       "count  205.000000  \n",
       "mean    25.551220  \n",
       "std      5.717496  \n",
       "min     14.000000  \n",
       "25%     21.000000  \n",
       "50%     25.000000  \n",
       "75%     30.000000  \n",
       "max     38.000000  "
      ]
     },
     "execution_count": 200,
     "metadata": {},
     "output_type": "execute_result"
    }
   ],
   "source": [
    "X.describe()"
   ]
  },
  {
   "cell_type": "code",
   "execution_count": 74,
   "metadata": {},
   "outputs": [
    {
     "data": {
      "text/plain": [
       "count      205.000000\n",
       "mean     12635.575610\n",
       "std       7635.389258\n",
       "min       5118.000000\n",
       "25%       7957.000000\n",
       "50%       9959.000000\n",
       "75%      15510.000000\n",
       "max      45400.000000\n",
       "Name: price, dtype: float64"
      ]
     },
     "execution_count": 74,
     "metadata": {},
     "output_type": "execute_result"
    }
   ],
   "source": [
    "y = data.iloc[:, 11]\n",
    "y.describe()"
   ]
  },
  {
   "cell_type": "code",
   "execution_count": 107,
   "metadata": {},
   "outputs": [],
   "source": [
    "X_train, X_test, y_train, y_test = train_test_split(X, y, test_size = 0.2, random_state=2018)"
   ]
  },
  {
   "cell_type": "code",
   "execution_count": 269,
   "metadata": {},
   "outputs": [
    {
     "name": "stdout",
     "output_type": "stream",
     "text": [
      "(164, 11)\n"
     ]
    }
   ],
   "source": [
    "print(X_train.shape)"
   ]
  },
  {
   "cell_type": "markdown",
   "metadata": {},
   "source": [
    "## Multiple Regression"
   ]
  },
  {
   "cell_type": "code",
   "execution_count": 279,
   "metadata": {},
   "outputs": [],
   "source": [
    "class MultipleRegression:\n",
    "    def __init__(self, learning_rate=0.001, iterations=1000):\n",
    "        self.lr = learning_rate\n",
    "        self.iters = iterations\n",
    "    \n",
    "    def fit(self, X_train, y_train):\n",
    "        self.X = X_train\n",
    "        self.y = y_train\n",
    "        self.n = X_train.shape[0]\n",
    "        ones = np.ones((self.n, 1))\n",
    "        \n",
    "        self.X = np.concatenate((self.X, ones), axis=1)\n",
    "        self.Xtrans = np.transpose(self.X)\n",
    "        \n",
    "        temp = np.dot(self.Xtrans, self.X)\n",
    "        temp = np.linalg.pinv(temp)\n",
    "        \n",
    "        self.coefs = np.dot(temp, self.Xtrans)\n",
    "        self.coefs = np.dot(self.coefs, self.y)\n",
    "        self.coef = self.coefs[-1]\n",
    "        self.coefs = self.coefs[:-1]\n",
    "#         self.apply_gradient()\n",
    "        \n",
    "    def apply_gradient(self):\n",
    "        N = float(len(self.y))\n",
    "        self.betas = np.zeros(len(self.X) + 1)\n",
    "        betas_grad = np.zeros(len(self.X) + 1)\n",
    "#         print(self.X.take(axis=0, indices=1))\n",
    "        print(self.X[0])\n",
    "        for i in range(10):\n",
    "            for j in range(len(self.y)):\n",
    "                y = self.y[j]\n",
    "                count = (2/N)\n",
    "                print(self.X[j])\n",
    "                for k in range(len(self.X)):\n",
    "                    pass\n",
    "#                     x = self.X[y][k]\n",
    "#                     print(j, k, y, x)\n",
    "#                     betas_grad[k] -= count * k * (y - ((self.betas[k] * k) + self.betas[0]))\n",
    "        \n",
    "    def score(self, X_test, y_test):\n",
    "        self.X_test = X_test\n",
    "        self.y_test = y_test\n",
    "        \n",
    "        self.pred = np.dot(self.X_test, self.coefs) + self.coef\n",
    "        \n",
    "        squared_error = np.sum((self.y_test - self.pred) ** 2)\n",
    "        mean = np.mean(self.y_test)\n",
    "        variance = np.sum((self.y_test - mean) ** 2)\n",
    "        \n",
    "        self.rsquared = 1 - squared_error/variance\n",
    "        return self.rsquared, self.pred\n",
    "        \n",
    "        "
   ]
  },
  {
   "cell_type": "code",
   "execution_count": 280,
   "metadata": {},
   "outputs": [],
   "source": [
    "multiple_reg = MultipleRegression()\n",
    "multiple_reg.fit(X_train, y_train)\n",
    "multiple_train_rsquared, _ = multiple_reg.score(X_train, y_train)\n",
    "multiple_test_rsquared, _ = multiple_reg.score(X_test, y_test)"
   ]
  },
  {
   "cell_type": "code",
   "execution_count": 281,
   "metadata": {},
   "outputs": [
    {
     "name": "stdout",
     "output_type": "stream",
     "text": [
      "Multiple regression R^2 score: training  0.882740645844\n",
      "Multiple regression R^2 score: test  0.930718097917\n"
     ]
    }
   ],
   "source": [
    "print('Multiple regression R^2 score: training ', multiple_train_rsquared)\n",
    "print('Multiple regression R^2 score: test ', multiple_test_rsquared)"
   ]
  },
  {
   "cell_type": "markdown",
   "metadata": {},
   "source": [
    "## Merging Multiple Regression with Ridge Regression"
   ]
  },
  {
   "cell_type": "code",
   "execution_count": 331,
   "metadata": {},
   "outputs": [],
   "source": [
    "class RidgeRegression:\n",
    "    def __init__(self, alpha=1.0):\n",
    "        self.alpha = alpha\n",
    "    \n",
    "    def fit(self, X, y):\n",
    "        self.X = X\n",
    "        self.y = y\n",
    "        self.ridge_reg = self.ridge()\n",
    "        \n",
    "    def ridge(self):\n",
    "        n, p = np.shape(self.X)\n",
    "        self.X = np.concatenate((self.X, np.sqrt(10.0**self.alpha) * np.identity(p)), axis=0)\n",
    "        self.y = np.concatenate((self.y, np.zeros(p)), axis=0)\n",
    "        self.model = MultipleRegression()\n",
    "        self.model.fit(self.X, self.y)\n",
    "        \n",
    "    def score(self, X_test, y_test):\n",
    "        scores, preds = self.model.score(X_test, y_test)\n",
    "        return scores"
   ]
  },
  {
   "cell_type": "code",
   "execution_count": 332,
   "metadata": {},
   "outputs": [],
   "source": [
    "ridge_reg_impl = RidgeRegression(alpha=1.0)\n",
    "ridge_reg_impl.fit(X_train, y_train)\n",
    "train_rsquared_impl = ridge_reg_impl.score(X_train, y_train)\n",
    "test_rsquared_impl = ridge_reg_impl.score(X_test, y_test)"
   ]
  },
  {
   "cell_type": "code",
   "execution_count": 333,
   "metadata": {},
   "outputs": [
    {
     "name": "stdout",
     "output_type": "stream",
     "text": [
      "Ridge regression R^2 score: training  0.846497488271\n",
      "Ridge regression R^2 score: test  0.888976957543\n"
     ]
    }
   ],
   "source": [
    "print('Ridge regression R^2 score: training ', train_rsquared_impl)\n",
    "print('Ridge regression R^2 score: test ', test_rsquared_impl)"
   ]
  },
  {
   "cell_type": "markdown",
   "metadata": {},
   "source": [
    "## Compare with sklearn Ridge"
   ]
  },
  {
   "cell_type": "code",
   "execution_count": 317,
   "metadata": {},
   "outputs": [],
   "source": [
    "ridge_reg = Ridge(alpha=1.0)\n",
    "ridge_reg.fit(X_train, y_train)\n",
    "train_rsquared = ridge_reg.score(X_train, y_train)\n",
    "test_rsquared = ridge_reg.score(X_test, y_test)"
   ]
  },
  {
   "cell_type": "code",
   "execution_count": 318,
   "metadata": {},
   "outputs": [
    {
     "name": "stdout",
     "output_type": "stream",
     "text": [
      "Ridge regression R^2 score: training  0.882718713794\n",
      "Ridge regression R^2 score: test  0.930075583031\n"
     ]
    }
   ],
   "source": [
    "print('Ridge regression R^2 score: training ', train_rsquared)\n",
    "print('Ridge regression R^2 score: test ', test_rsquared)"
   ]
  },
  {
   "cell_type": "markdown",
   "metadata": {},
   "source": [
    "## Compare with sklearn Linear Regression"
   ]
  },
  {
   "cell_type": "code",
   "execution_count": 319,
   "metadata": {},
   "outputs": [],
   "source": [
    "linear_reg = LinearRegression()\n",
    "linear_reg.fit(X_train, y_train)\n",
    "train_rsquared_linear = linear_reg.score(X_train, y_train)\n",
    "test_rsquared_linear = linear_reg.score(X_test, y_test)"
   ]
  },
  {
   "cell_type": "code",
   "execution_count": 320,
   "metadata": {},
   "outputs": [
    {
     "name": "stdout",
     "output_type": "stream",
     "text": [
      "Linear regression R^2 score: training  0.882740645844\n",
      "Linear regression R^2 score: test  0.930718097917\n"
     ]
    }
   ],
   "source": [
    "print('Linear regression R^2 score: training ', train_rsquared_linear)\n",
    "print('Linear regression R^2 score: test ', test_rsquared_linear)"
   ]
  },
  {
   "cell_type": "markdown",
   "metadata": {},
   "source": [
    "## Comparison between lambda parameteres for Ridge"
   ]
  },
  {
   "cell_type": "code",
   "execution_count": 324,
   "metadata": {},
   "outputs": [],
   "source": [
    "lambdas = np.linspace(-7, 7, 100)\n",
    "r2_train, r2_test = np.zeros(len(lambdas)), np.zeros(len(lambdas)) \n",
    "r2_train_impl, r2_test_impl = np.zeros(len(lambdas)), np.zeros(len(lambdas))"
   ]
  },
  {
   "cell_type": "code",
   "execution_count": 338,
   "metadata": {},
   "outputs": [
    {
     "name": "stdout",
     "output_type": "stream",
     "text": [
      "Lambda -7.0 R2_train:  0.882740645844 R2_test:  0.930718097917 R2_train_impl:  0.847084445041 R2_train_impl:  0.893682018731\n",
      "Lambda -6.86 R2_train:  0.882718713794 R2_test:  0.930075583031 R2_train_impl:  0.846497488271 R2_train_impl:  0.888976957543\n",
      "Lambda -6.72 R2_train:  0.882658954254 R2_test:  0.929445245799 R2_train_impl:  0.840969154868 R2_train_impl:  0.874464450776\n",
      "Lambda -6.58 R2_train:  0.882568956961 R2_test:  0.928829258295 R2_train_impl:  0.836475432921 R2_train_impl:  0.86903065073\n",
      "Lambda -6.4399999999999995 R2_train:  0.882454729523 R2_test:  0.928228937977 R2_train_impl:  0.831136628712 R2_train_impl:  0.864049563025\n",
      "Lambda -6.3 R2_train:  0.882321060951 R2_test:  0.927644995848 R2_train_impl:  0.805639622026 R2_train_impl:  0.838213658075\n",
      "Lambda -6.16 R2_train:  0.882171793563 R2_test:  0.927077713839 R2_train_impl:  0.720977792995 R2_train_impl:  0.786900244771\n",
      "Lambda -6.02 R2_train:  0.882010028359 R2_test:  0.926527072348 R2_train_impl:  0.679219778807 R2_train_impl:  0.732333401345\n",
      "Lambda -5.88 R2_train:  0.881838281548 R2_test:  0.92599284233 R2_train_impl:  0.474941542483 R2_train_impl:  0.422585315373\n",
      "Lambda -5.74 R2_train:  0.881658604862 R2_test:  0.925474652009 R2_train_impl:  -0.00358647682157 R2_train_impl:  0.00367992683879\n",
      "Lambda -5.6 R2_train:  0.881472678755 R2_test:  0.92497203526 R2_train_impl:  -0.0108176799319 R2_train_impl:  -0.00998213293303\n",
      "Lambda -5.46 R2_train:  0.881281885135 R2_test:  0.92448446671 R2_train_impl:  -0.0041432229837 R2_train_impl:  -0.00540408887308\n",
      "Lambda -5.32 R2_train:  0.881087364502 R2_test:  0.924011387133 R2_train_impl:  -0.00137779934446 R2_train_impl:  -0.00320166954408\n",
      "Lambda -5.18 R2_train:  0.880890061147 R2_test:  0.923552221756 R2_train_impl:  -0.000442330261312 R2_train_impl:  -0.00243217765125\n",
      "Lambda -5.04 R2_train:  0.880690759093 R2_test:  0.923106393329 R2_train_impl:  -0.000140536405844 R2_train_impl:  -0.00218160980387\n",
      "Lambda -4.9 R2_train:  0.880490110868 R2_test:  0.922673331368 R2_train_impl:  -4.45073217445e-05 R2_train_impl:  -0.00210165212208\n",
      "Lambda -4.76 R2_train:  0.880288660642 R2_test:  0.92225247855 R2_train_impl:  -1.40810279767e-05 R2_train_impl:  -0.00207629525487\n",
      "Lambda -4.62 R2_train:  0.880086862932 R2_test:  0.921843295028 R2_train_impl:  -4.45346970035e-06 R2_train_impl:  -0.0020682695495\n",
      "Lambda -4.48 R2_train:  0.879885097804 R2_test:  0.921445261205 R2_train_impl:  -2.8293492079 R2_train_impl:  -2.50034641797\n",
      "Lambda -4.34 R2_train:  0.879683683273 R2_test:  0.921057879376 R2_train_impl:  -2.82934923604 R2_train_impl:  -2.50034644173\n",
      "Lambda -4.2 R2_train:  0.879482885467 R2_test:  0.920680674554 R2_train_impl:  -2.82934923886 R2_train_impl:  -2.50034644411\n",
      "Lambda -4.0600000000000005 R2_train:  0.879282926998 R2_test:  0.920313194691 R2_train_impl:  -2.82934923914 R2_train_impl:  -2.50034644435\n",
      "Lambda -3.92 R2_train:  0.879083993866 R2_test:  0.919955010482 R2_train_impl:  -2.82934923917 R2_train_impl:  -2.50034644437\n",
      "Lambda -3.78 R2_train:  0.878886241195 R2_test:  0.919605714863 R2_train_impl:  -2.82934923917 R2_train_impl:  -2.50034644437\n",
      "Lambda -3.64 R2_train:  0.878689797997 R2_test:  0.919264922308 R2_train_impl:  -2.82934923917 R2_train_impl:  -2.50034644437\n",
      "Lambda -3.5 R2_train:  0.878494771156 R2_test:  0.918932267991 R2_train_impl:  -2.82934923917 R2_train_impl:  -2.50034644437\n",
      "Lambda -3.36 R2_train:  0.878301248764 R2_test:  0.918607406867 R2_train_impl:  -2.82934923917 R2_train_impl:  -2.50034644437\n",
      "Lambda -3.22 R2_train:  0.878109302919 R2_test:  0.918290012706 R2_train_impl:  -2.82934923917 R2_train_impl:  -2.50034644437\n",
      "Lambda -3.08 R2_train:  0.877918992087 R2_test:  0.917979777118 R2_train_impl:  -2.82934923917 R2_train_impl:  -2.50034644437\n",
      "Lambda -2.9400000000000004 R2_train:  0.877730363096 R2_test:  0.917676408581 R2_train_impl:  -2.82934923917 R2_train_impl:  -2.50034644437\n",
      "Lambda -2.8 R2_train:  0.877543452826 R2_test:  0.917379631481 R2_train_impl:  -2.82934923917 R2_train_impl:  -2.50034644437\n",
      "Lambda -2.66 R2_train:  0.877358289642 R2_test:  0.917089185195 R2_train_impl:  -2.82934923917 R2_train_impl:  -2.50034644437\n",
      "Lambda -2.5199999999999996 R2_train:  0.877174894616 R2_test:  0.916804823198 R2_train_impl:  -2.82934923917 R2_train_impl:  -2.50034644437\n",
      "Lambda -2.38 R2_train:  0.876993282569 R2_test:  0.916526312217 R2_train_impl:  -2.82934923917 R2_train_impl:  -2.50034644437\n",
      "Lambda -2.24 R2_train:  0.876813462963 R2_test:  0.916253431427 R2_train_impl:  -2.82934923917 R2_train_impl:  -2.50034644437\n",
      "Lambda -2.0999999999999996 R2_train:  0.876635440662 R2_test:  0.915985971684 R2_train_impl:  -2.82934923917 R2_train_impl:  -2.50034644437\n",
      "Lambda -1.96 R2_train:  0.876459216587 R2_test:  0.915723734814 R2_train_impl:  -2.82934923917 R2_train_impl:  -2.50034644437\n",
      "Lambda -1.8200000000000003 R2_train:  0.876284788283 R2_test:  0.915466532932 R2_train_impl:  -2.82934923917 R2_train_impl:  -2.50034644437\n",
      "Lambda -1.6799999999999997 R2_train:  0.8761121504 R2_test:  0.915214187809 R2_train_impl:  -2.82934923917 R2_train_impl:  -2.50034644437\n",
      "Lambda -1.54 R2_train:  0.875941295115 R2_test:  0.914966530278 R2_train_impl:  -2.82934923917 R2_train_impl:  -2.50034644437\n",
      "Lambda -1.4000000000000004 R2_train:  0.875772212491 R2_test:  0.914723399676 R2_train_impl:  -2.82934923917 R2_train_impl:  -2.50034644437\n",
      "Lambda -1.2599999999999998 R2_train:  0.875604890794 R2_test:  0.914484643327 R2_train_impl:  -2.82934923917 R2_train_impl:  -2.50034644437\n",
      "Lambda -1.12 R2_train:  0.875439316762 R2_test:  0.914250116052 R2_train_impl:  -2.82934923917 R2_train_impl:  -2.50034644437\n",
      "Lambda -0.9800000000000004 R2_train:  0.875275475839 R2_test:  0.914019679717 R2_train_impl:  -2.82934923917 R2_train_impl:  -2.50034644437\n",
      "Lambda -0.8399999999999999 R2_train:  0.875113352384 R2_test:  0.913793202807 R2_train_impl:  -2.82934923917 R2_train_impl:  -2.50034644437\n",
      "Lambda -0.7000000000000002 R2_train:  0.874952929843 R2_test:  0.913570560034 R2_train_impl:  -2.82934923917 R2_train_impl:  -2.50034644437\n",
      "Lambda -0.5599999999999996 R2_train:  0.874794190909 R2_test:  0.913351631962 R2_train_impl:  -2.82934923917 R2_train_impl:  -2.50034644437\n",
      "Lambda -0.41999999999999993 R2_train:  0.874637117652 R2_test:  0.913136304667 R2_train_impl:  -2.82934923917 R2_train_impl:  -2.50034644437\n",
      "Lambda -0.28000000000000025 R2_train:  0.874481691641 R2_test:  0.912924469414 R2_train_impl:  -2.82934923917 R2_train_impl:  -2.50034644437\n",
      "Lambda -0.13999999999999968 R2_train:  0.874327894042 R2_test:  0.912716022355 R2_train_impl:  -2.82934923917 R2_train_impl:  -2.50034644437\n",
      "Lambda 0.0 R2_train:  0.874175705709 R2_test:  0.912510864248 R2_train_impl:  -2.82934923917 R2_train_impl:  -2.50034644437\n",
      "Lambda 0.13999999999999968 R2_train:  0.874025107261 R2_test:  0.912308900199 R2_train_impl:  -2.82934923917 R2_train_impl:  -2.50034644437\n",
      "Lambda 0.28000000000000025 R2_train:  0.87387607915 R2_test:  0.912110039413 R2_train_impl:  -2.82934923917 R2_train_impl:  -2.50034644437\n",
      "Lambda 0.41999999999999993 R2_train:  0.873728601722 R2_test:  0.911914194968 R2_train_impl:  -2.82934923917 R2_train_impl:  -2.50034644437\n",
      "Lambda 0.5599999999999996 R2_train:  0.873582655263 R2_test:  0.9117212836 R2_train_impl:  -2.82934923917 R2_train_impl:  -2.50034644437\n",
      "Lambda 0.7000000000000002 R2_train:  0.87343822005 R2_test:  0.911531225502 R2_train_impl:  -2.82934923917 R2_train_impl:  -2.50034644437\n",
      "Lambda 0.8399999999999999 R2_train:  0.873295276386 R2_test:  0.911343944139 R2_train_impl:  -2.82934923917 R2_train_impl:  -2.50034644437\n",
      "Lambda 0.9800000000000004 R2_train:  0.873153804635 R2_test:  0.91115936607 R2_train_impl:  -2.82934923917 R2_train_impl:  -2.50034644437\n",
      "Lambda 1.1199999999999992 R2_train:  0.873013785249 R2_test:  0.910977420787 R2_train_impl:  -2.82934923917 R2_train_impl:  -2.50034644437\n",
      "Lambda 1.2599999999999998 R2_train:  0.872875198798 R2_test:  0.91079804056 R2_train_impl:  -2.82934923917 R2_train_impl:  -2.50034644437\n",
      "Lambda 1.4000000000000004 R2_train:  0.872738025987 R2_test:  0.910621160292 R2_train_impl:  -2.82934923917 R2_train_impl:  -2.50034644437\n",
      "Lambda 1.5399999999999991 R2_train:  0.872602247678 R2_test:  0.910446717383 R2_train_impl:  -2.82934923917 R2_train_impl:  -2.50034644437\n",
      "Lambda 1.6799999999999997 R2_train:  0.872467844906 R2_test:  0.910274651608 R2_train_impl:  -2.82934923917 R2_train_impl:  -2.50034644437\n",
      "Lambda 1.8200000000000003 R2_train:  0.872334798889 R2_test:  0.91010490499 R2_train_impl:  -2.82934923917 R2_train_impl:  -2.50034644437\n",
      "Lambda 1.9600000000000009 R2_train:  0.872203091044 R2_test:  0.909937421696 R2_train_impl:  -2.82934923917 R2_train_impl:  -2.50034644437\n",
      "Lambda 2.0999999999999996 R2_train:  0.872072702994 R2_test:  0.909772147926 R2_train_impl:  -2.82934923917 R2_train_impl:  -2.50034644437\n",
      "Lambda 2.24 R2_train:  0.871943616579 R2_test:  0.909609031816 R2_train_impl:  -2.82934923917 R2_train_impl:  -2.50034644437\n",
      "Lambda 2.380000000000001 R2_train:  0.871815813859 R2_test:  0.909448023348 R2_train_impl:  -2.82934923917 R2_train_impl:  -2.50034644437\n",
      "Lambda 2.5199999999999996 R2_train:  0.871689277123 R2_test:  0.909289074256 R2_train_impl:  -2.82934923917 R2_train_impl:  -2.50034644437\n",
      "Lambda 2.66 R2_train:  0.871563988889 R2_test:  0.909132137948 R2_train_impl:  -2.82934923917 R2_train_impl:  -2.50034644437\n",
      "Lambda 2.8000000000000007 R2_train:  0.871439931912 R2_test:  0.908977169427 R2_train_impl:  -2.82934923917 R2_train_impl:  -2.50034644437\n",
      "Lambda 2.9399999999999995 R2_train:  0.871317089186 R2_test:  0.908824125219 R2_train_impl:  -2.82934923917 R2_train_impl:  -2.50034644437\n",
      "Lambda 3.08 R2_train:  0.87119544394 R2_test:  0.9086729633 R2_train_impl:  -2.82934923917 R2_train_impl:  -2.50034644437\n",
      "Lambda 3.2200000000000006 R2_train:  0.871074979648 R2_test:  0.908523643034 R2_train_impl:  -2.82934923917 R2_train_impl:  -2.50034644437\n",
      "Lambda 3.3599999999999994 R2_train:  0.870955680021 R2_test:  0.90837612511 R2_train_impl:  -2.82934923917 R2_train_impl:  -2.50034644437\n",
      "Lambda 3.5 R2_train:  0.870837529011 R2_test:  0.908230371484 R2_train_impl:  -2.82934923917 R2_train_impl:  -2.50034644437\n",
      "Lambda 3.6400000000000006 R2_train:  0.870720510814 R2_test:  0.908086345323 R2_train_impl:  -2.82934923917 R2_train_impl:  -2.50034644437\n",
      "Lambda 3.7799999999999994 R2_train:  0.870604609859 R2_test:  0.907944010955 R2_train_impl:  -2.82934923917 R2_train_impl:  -2.50034644437\n",
      "Lambda 3.92 R2_train:  0.870489810818 R2_test:  0.907803333816 R2_train_impl:  -2.82934923917 R2_train_impl:  -2.50034644437\n",
      "Lambda 4.0600000000000005 R2_train:  0.870376098598 R2_test:  0.907664280406 R2_train_impl:  -2.82934923917 R2_train_impl:  -2.50034644437\n",
      "Lambda 4.199999999999999 R2_train:  0.870263458339 R2_test:  0.907526818244 R2_train_impl:  -2.82934923917 R2_train_impl:  -2.50034644437\n",
      "Lambda 4.34 R2_train:  0.870151875414 R2_test:  0.907390915825 R2_train_impl:  -2.82934923917 R2_train_impl:  -2.50034644437\n",
      "Lambda 4.48 R2_train:  0.870041335427 R2_test:  0.907256542582 R2_train_impl:  -2.82934923917 R2_train_impl:  -2.50034644437\n",
      "Lambda 4.619999999999999 R2_train:  0.869931824209 R2_test:  0.907123668846 R2_train_impl:  -2.82934923917 R2_train_impl:  -2.50034644437\n",
      "Lambda 4.76 R2_train:  0.869823327817 R2_test:  0.906992265811 R2_train_impl:  -2.82934923917 R2_train_impl:  -2.50034644437\n",
      "Lambda 4.9 R2_train:  0.869715832529 R2_test:  0.906862305502 R2_train_impl:  -2.82934923917 R2_train_impl:  -2.50034644437\n",
      "Lambda 5.039999999999999 R2_train:  0.869609324844 R2_test:  0.906733760737 R2_train_impl:  -2.82934923917 R2_train_impl:  -2.50034644437\n",
      "Lambda 5.18 R2_train:  0.869503791476 R2_test:  0.906606605103 R2_train_impl:  -2.82934923917 R2_train_impl:  -2.50034644437\n",
      "Lambda 5.32 R2_train:  0.869399219355 R2_test:  0.90648081292 R2_train_impl:  -2.82934923917 R2_train_impl:  -2.50034644437\n",
      "Lambda 5.460000000000001 R2_train:  0.869295595621 R2_test:  0.90635635922 R2_train_impl:  -2.82934923917 R2_train_impl:  -2.50034644437\n",
      "Lambda 5.6 R2_train:  0.86919290762 R2_test:  0.906233219714 R2_train_impl:  -2.82934923917 R2_train_impl:  -2.50034644437\n",
      "Lambda 5.74 R2_train:  0.869091142904 R2_test:  0.90611137077 R2_train_impl:  -2.82934923917 R2_train_impl:  -2.50034644437\n",
      "Lambda 5.880000000000001 R2_train:  0.868990289227 R2_test:  0.90599078939 R2_train_impl:  -2.82934923917 R2_train_impl:  -2.50034644437\n",
      "Lambda 6.02 R2_train:  0.86889033454 R2_test:  0.905871453182 R2_train_impl:  -2.82934923917 R2_train_impl:  -2.50034644437\n",
      "Lambda 6.16 R2_train:  0.86879126699 R2_test:  0.905753340344 R2_train_impl:  -2.82934923917 R2_train_impl:  -2.50034644437\n",
      "Lambda 6.300000000000001 R2_train:  0.868693074917 R2_test:  0.905636429639 R2_train_impl:  -2.82934923917 R2_train_impl:  -2.50034644437\n",
      "Lambda 6.4399999999999995 R2_train:  0.868595746848 R2_test:  0.905520700377 R2_train_impl:  -2.82934923917 R2_train_impl:  -2.50034644437\n",
      "Lambda 6.58 R2_train:  0.868499271496 R2_test:  0.905406132394 R2_train_impl:  -2.82934923917 R2_train_impl:  -2.50034644437\n",
      "Lambda 6.720000000000001 R2_train:  0.868403637759 R2_test:  0.905292706036 R2_train_impl:  -2.82934923917 R2_train_impl:  -2.50034644437\n",
      "Lambda 6.859999999999999 R2_train:  0.868308834713 R2_test:  0.905180402141 R2_train_impl:  -2.82934923917 R2_train_impl:  -2.50034644437\n"
     ]
    }
   ],
   "source": [
    "for i in range(len(lambdas)):\n",
    "    model = Ridge(alpha=i)\n",
    "    model_impl = RidgeRegression(alpha=i)\n",
    "    model.fit(X_train, y_train)\n",
    "    model_impl.fit(X_train, y_train)\n",
    "    \n",
    "    r2_train[i] = model.score(X_train, y_train)\n",
    "    r2_test[i] = model.score(X_test, y_test)\n",
    "    r2_train_impl[i] = model_impl.score(X_train, y_train)\n",
    "    r2_test_impl[i] = model_impl.score(X_test, y_test)\n",
    "    print('Lambda', (-7 + i*14/100), 'R2_train: ', r2_train[i], 'R2_test: ', r2_test[i], 'R2_train_impl: ', r2_train_impl[i], 'R2_train_impl: ', r2_test_impl[i])"
   ]
  },
  {
   "cell_type": "code",
   "execution_count": 335,
   "metadata": {},
   "outputs": [
    {
     "data": {
      "image/png": "[encoded data removed]",
      "text/plain": [
       "<matplotlib.figure.Figure at 0x1a2278fac8>"
      ]
     },
     "metadata": {},
     "output_type": "display_data"
    }
   ],
   "source": [
    "fig, ax = plt.subplots(1, 1, figsize=(22, 10))\n",
    "ax.semilogx(10.0**lambdas, (r2_train), c='b', label='Ridge: Train')\n",
    "ax.semilogx(10.0**lambdas, (r2_test), c='r', label='Ridge: Test')\n",
    "ax.semilogx(10.0**lambdas, (r2_train_impl), c='g', label='Ridge Implemented: Train')\n",
    "ax.semilogx(10.0**lambdas, (r2_test_impl), c='y', label='Ridge Implemented: Test')\n",
    "\n",
    "ax.set_xlabel('Regularization parameter $\\lambda$')\n",
    "ax.set_ylabel(r'$R^2$ score')\n",
    "ax.legend(loc = 'best')\n",
    "plt.grid()"
   ]
  },
  {
   "cell_type": "markdown",
   "metadata": {},
   "source": [
    "# Sum up\n",
    "### Multiple regression\n",
    "My own multiple regression got the same scores as sklearn linear regression which shows me that definitely my solution is proper\n",
    "\n",
    "### Ridge regression\n",
    "As far as scores are similar to the ones from sklearn, it still needs some updates to perform well\n",
    "\n",
    "### The plot\n",
    "The plots shows some weird values for various lambdas. It should be resolved\n",
    "\n",
    "### Gradient descent\n",
    "Hope I'll finish it up before deadline but I'm not sure because it still needs some work inside loops for counting and updating derivatives through iterations"
   ]
  },
  {
   "cell_type": "code",
   "execution_count": null,
   "metadata": {},
   "outputs": [],
   "source": []
  }
 ],
 "metadata": {
  "kernelspec": {
   "display_name": "Python 3",
   "language": "python",
   "name": "python3"
  },
  "language_info": {
   "codemirror_mode": {
    "name": "ipython",
    "version": 3
   },
   "file_extension": ".py",
   "mimetype": "text/x-python",
   "name": "python",
   "nbconvert_exporter": "python",
   "pygments_lexer": "ipython3",
   "version": "3.6.4"
  }
 },
 "nbformat": 4,
 "nbformat_minor": 2
}
