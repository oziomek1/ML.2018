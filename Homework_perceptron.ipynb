{
 "cells": [
  {
   "cell_type": "markdown",
   "metadata": {},
   "source": [
    "# Homework 12\n",
    "\n",
    "- Implement a Perceptron. \n",
    "- Train and test it for the Iris data set below \n",
    "- visualise the data points and the decission boundry of your trained Perceptron on a 2D plot (petal length vs petal width)\n",
    "- compare to sklearn implementation"
   ]
  },
  {
   "cell_type": "code",
   "execution_count": 64,
   "metadata": {},
   "outputs": [],
   "source": [
    "import numpy as np\n",
    "import random\n",
    "\n",
    "import warnings\n",
    "warnings.filterwarnings('ignore')\n",
    "\n",
    "import matplotlib.pyplot as plt\n",
    "%matplotlib inline\n",
    "plt.rcParams['axes.labelsize'] = 14\n",
    "plt.rcParams['xtick.labelsize'] = 12\n",
    "plt.rcParams['ytick.labelsize'] = 12\n",
    "plt.rcParams['figure.figsize'] = 12,10\n",
    "np.random.seed(3)"
   ]
  },
  {
   "cell_type": "code",
   "execution_count": 65,
   "metadata": {},
   "outputs": [],
   "source": [
    "from sklearn.datasets import load_iris\n",
    "from sklearn.linear_model import Perceptron as SklearnPerceptron\n",
    "\n",
    "iris = load_iris()"
   ]
  },
  {
   "cell_type": "code",
   "execution_count": 78,
   "metadata": {},
   "outputs": [],
   "source": [
    "X = iris.data[:, (2,3)]\n",
    "y = (iris.target == 0).astype(np.int)"
   ]
  },
  {
   "cell_type": "markdown",
   "metadata": {},
   "source": [
    "## Prediction Iris Versicolour \"1\" vs not Iris Versicolour \"0\" (Iris Setosa or Iris Virginica)"
   ]
  },
  {
   "cell_type": "code",
   "execution_count": 79,
   "metadata": {},
   "outputs": [],
   "source": [
    "from sklearn.cross_validation import train_test_split\n",
    "X_train, X_test, y_train, y_test = train_test_split(X, y, test_size=0.25)"
   ]
  },
  {
   "cell_type": "markdown",
   "metadata": {},
   "source": [
    "### Check accuracy on sklearn perceptron implementation"
   ]
  },
  {
   "cell_type": "code",
   "execution_count": 80,
   "metadata": {},
   "outputs": [
    {
     "data": {
      "text/plain": [
       "Perceptron(alpha=0.0001, class_weight=None, eta0=1.0, fit_intercept=True,\n",
       "      max_iter=None, n_iter=None, n_jobs=1, penalty=None, random_state=0,\n",
       "      shuffle=True, tol=None, verbose=0, warm_start=False)"
      ]
     },
     "execution_count": 80,
     "metadata": {},
     "output_type": "execute_result"
    }
   ],
   "source": [
    "sklearnPerceptron = SklearnPerceptron()\n",
    "sklearnPerceptron.fit(X_train, y_train)"
   ]
  },
  {
   "cell_type": "code",
   "execution_count": 69,
   "metadata": {},
   "outputs": [
    {
     "name": "stdout",
     "output_type": "stream",
     "text": [
      "Sklearn Perceptron Accuracy: 68.4210526316 %\n"
     ]
    }
   ],
   "source": [
    "print(\"Sklearn Perceptron Accuracy:\",sklearnPerceptron.score(X_test, y_test) * 100, \"%\") "
   ]
  },
  {
   "cell_type": "markdown",
   "metadata": {},
   "source": [
    "### Create perceptron from scratch"
   ]
  },
  {
   "cell_type": "code",
   "execution_count": 70,
   "metadata": {},
   "outputs": [],
   "source": [
    "from sklearn.linear_model import SGDClassifier\n",
    "\n",
    "class Perceptron:\n",
    "    def __init__(self, alpha = 0.0001):\n",
    "        self.alpha = alpha\n",
    "       \n",
    "    def fit(self, X, y):\n",
    "        self.X = X\n",
    "        self.y = y\n",
    "        self.sgd = self.sgd()\n",
    "        \n",
    "    def sgd(self):\n",
    "        self.model = SGDClassifier(alpha = self.alpha)\n",
    "        self.model.fit(self.X, self.y)\n",
    "        \n",
    "    def score(self, X_test, y_test):\n",
    "        self.X_test = X_test\n",
    "        self.y_test = y_test\n",
    "        self.score = self.model.score(X_test, y_test)\n",
    "        return self.score"
   ]
  },
  {
   "cell_type": "code",
   "execution_count": 71,
   "metadata": {},
   "outputs": [],
   "source": [
    "perceptron = Perceptron()\n",
    "perceptron.fit(X_train, y_train)"
   ]
  },
  {
   "cell_type": "code",
   "execution_count": 72,
   "metadata": {},
   "outputs": [
    {
     "name": "stdout",
     "output_type": "stream",
     "text": [
      "Accuracy: 68.4210526316 %\n"
     ]
    }
   ],
   "source": [
    "print(\"Accuracy:\",perceptron.score(X_test, y_test) * 100, \"%\")  "
   ]
  },
  {
   "cell_type": "code",
   "execution_count": 73,
   "metadata": {},
   "outputs": [],
   "source": [
    "def sigmoid(x) :\n",
    "    return 1/(1 + np.exp(-x))\n",
    "\n",
    "def sigmoid_p(x) :\n",
    "    return sigmoid(x) * (1-sigmoid(x))"
   ]
  },
  {
   "cell_type": "code",
   "execution_count": 74,
   "metadata": {},
   "outputs": [],
   "source": [
    "class PerceptronFromScratch:\n",
    "    def __init__(self, alpha = 0.01, iter = 1000):\n",
    "        self.alpha = alpha\n",
    "        self.iter = iter\n",
    "        \n",
    "    def fit(self, X, y):\n",
    "        self.X = X\n",
    "        self.y = y\n",
    "        # weights\n",
    "        self.len, self.width = len(self.y), len(X[0])\n",
    "        self.weights = list()\n",
    "        for i in range(self.width):\n",
    "            self.weights.append(random.random())\n",
    "        self.bias = random.random()\n",
    "        self.compute()\n",
    "        \n",
    "    def score(self, X_test, y_test):\n",
    "        counter = 0\n",
    "        for j in range(len(X_test)):\n",
    "            y = self.set_poly(X_test[j])\n",
    "            prediction = sigmoid(y)\n",
    "            if prediction < .5 and y_test[j] == 0:\n",
    "                counter += 1\n",
    "            elif prediction >= .5 and y_test[j] == 1:\n",
    "                counter += 1\n",
    "        return counter / len(X_test)\n",
    "        \n",
    "    def compute(self):\n",
    "        dw = list()\n",
    "        for i in range(self.width):\n",
    "            dw.append(random.random())\n",
    "        for i in range(self.iter):\n",
    "            for j in range(self.len):\n",
    "                y = self.set_poly(X[j])\n",
    "                prediction = sigmoid(y)\n",
    "                diff = prediction - y\n",
    "                cost = np.square(diff)\n",
    "                d_cost = 2 * (diff)\n",
    "                d_pred = sigmoid_p(y)\n",
    "                d_cost = d_cost * d_pred\n",
    "                for k in range(self.width):\n",
    "                    dw[k] = d_cost * self.X[j,k]\n",
    "                    self.weights[k] -= self.alpha * dw[k]\n",
    "                db = d_cost\n",
    "                self.bias -= self.alpha * db\n",
    "    \n",
    "    def set_poly(self, X):\n",
    "        y = 0\n",
    "        for k in range(len(X)):\n",
    "            y += X[k] * self.weights[k]\n",
    "        y += self.bias\n",
    "        return y"
   ]
  },
  {
   "cell_type": "code",
   "execution_count": 75,
   "metadata": {},
   "outputs": [],
   "source": [
    "perceptron_v2 = PerceptronFromScratch()\n",
    "perceptron_v2.fit(X_train, y_train)"
   ]
  },
  {
   "cell_type": "code",
   "execution_count": 76,
   "metadata": {},
   "outputs": [
    {
     "name": "stdout",
     "output_type": "stream",
     "text": [
      "Accuracy: 31.57894736842105 %\n"
     ]
    }
   ],
   "source": [
    "print(\"Accuracy:\",perceptron_v2.score(X_test, y_test) * 100, \"%\")  "
   ]
  },
  {
   "cell_type": "code",
   "execution_count": 77,
   "metadata": {},
   "outputs": [
    {
     "data": {
      "image/png": "[encoded data removed]",
      "text/plain": [
       "<matplotlib.figure.Figure at 0x10ae72cc0>"
      ]
     },
     "metadata": {},
     "output_type": "display_data"
    }
   ],
   "source": [
    "plt.figure(2, figsize=(8, 6))\n",
    "plt.clf()\n",
    "plt.scatter(X[:, 0], X[:, 1], c=y, cmap=plt.cm.summer,\n",
    "            edgecolor='k')\n",
    "plt.xlabel('Petal length')\n",
    "plt.ylabel('Petal width')\n",
    "\n",
    "plt.show()"
   ]
  },
  {
   "cell_type": "code",
   "execution_count": null,
   "metadata": {},
   "outputs": [],
   "source": []
  }
 ],
 "metadata": {
  "kernelspec": {
   "display_name": "Python 3",
   "language": "python",
   "name": "python3"
  },
  "language_info": {
   "codemirror_mode": {
    "name": "ipython",
    "version": 3
   },
   "file_extension": ".py",
   "mimetype": "text/x-python",
   "name": "python",
   "nbconvert_exporter": "python",
   "pygments_lexer": "ipython3",
   "version": "3.6.4"
  }
 },
 "nbformat": 4,
 "nbformat_minor": 2
}
