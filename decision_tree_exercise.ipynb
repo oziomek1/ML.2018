{
 "cells": [
  {
   "cell_type": "markdown",
   "metadata": {},
   "source": [
    "# Decision tree exercises with pruning"
   ]
  },
  {
   "cell_type": "markdown",
   "metadata": {},
   "source": [
    "Customers segmentation:\n",
    "    \n",
    "| Location|Category   | Gender | Product review  | Decision |\n",
    "|---------|-----------|--------|-----------------|--------|\n",
    "| Berlin | Furniture  | Male   | Checked Reviews | Bought |\n",
    "| London | Furniture  | Male   | Checked Reviews | Bought |\n",
    "| Berlin | Furniture  | Female | Checked Reviews | Did not bought |\n",
    "| Berlin | Textile    | Female | Checked Reviews | Bought |\n",
    "| London | Electronics| Male   | Checked Reviews | Did not bough |\n",
    "| London | Textile    | Female | Checked Reviews | Did not bough |\n",
    "| Paris  | Textile    | Male   | Did not checked | Bought |\n",
    "| Berlin | Electronics| Male   | Checked Reviews | Bought |\n",
    "| Paris  | Electronics| Male   | Did not checked | Bought |\n",
    "| London | Electronics| Female | Checked Reviews | Bought |\n",
    "| Paris  | Furniture  | Female | Did not checked | Bought |\n",
    "| Berlin | Textile    | Female | Did not checked | Bought |\n",
    "| London | Electronics| Female | Did not checked | Did not bough |\n",
    "| London | Furniture  | Female | Checked Reviews | Did not bough |\n",
    "| London | Textile    | Female | Did not checked | Did not bough |"
   ]
  },
  {
   "cell_type": "code",
   "execution_count": 1,
   "metadata": {},
   "outputs": [],
   "source": [
    "import numpy as np\n",
    "import copy\n",
    "import random\n",
    "import math\n",
    "\n",
    "labels = [1,1,-1,1,-1,-1,1,1,1,1,1,1,-1,-1,-1]\n",
    "X = [[1,1,2,2],\n",
    "     [2,1,2,2],\n",
    "     [1,1,1,2],\n",
    "     [1,2,1,2],\n",
    "     [2,3,2,2],\n",
    "     [2,2,1,2],\n",
    "     [3,2,2,1],\n",
    "     [1,3,2,2],\n",
    "     [3,3,2,1],\n",
    "     [2,3,1,2],\n",
    "     [3,1,1,1],\n",
    "     [1,2,1,1],\n",
    "     [2,3,1,1],\n",
    "     [2,1,1,2],\n",
    "     [2,2,1,1]]"
   ]
  },
  {
   "cell_type": "markdown",
   "metadata": {},
   "source": [
    "For further development - with multiple children.\n",
    "\n",
    "Now work is focused on simpler binary tree."
   ]
  },
  {
   "cell_type": "code",
   "execution_count": 2,
   "metadata": {},
   "outputs": [],
   "source": [
    "class Leaf:\n",
    "    \n",
    "    def __init__(self, elements, labels):\n",
    "        self.completed = False\n",
    "        self.labels = labels\n",
    "        self.elements = elements\n",
    "        self.childs = []\n",
    "        \n",
    "    def get_elements(self):\n",
    "        return self.elements\n",
    "    \n",
    "    def set_elements(self, elements):\n",
    "        self.elements = elements\n",
    "    \n",
    "    def set_childs(self, new_leafs):\n",
    "        self.childs = new_leafs\n",
    "        \n",
    "    def set_completed(self):\n",
    "        self.completed = True\n",
    "        \n",
    "    def is_completed(self):\n",
    "        return self.completed\n",
    "    \n",
    "    def get_labels(self):\n",
    "        return self.labels\n",
    "    \n",
    "    def get_childs(self):\n",
    "        return self.childs\n",
    "    \n",
    "    def get_child_at_index(self, idx):\n",
    "        return self.childs[idx]"
   ]
  },
  {
   "cell_type": "code",
   "execution_count": 3,
   "metadata": {},
   "outputs": [],
   "source": [
    "class TreeUtils:\n",
    "    \n",
    "    def __init__(self, root):\n",
    "        self.root_node = root\n",
    "    \n",
    "    def get_unique_labels(self, labels):\n",
    "        return np.unique(p.array(labels)).tolist()\n",
    "    \n",
    "    def get_unique_values(self, elements):\n",
    "        features_number = len(elements[0])\n",
    "        uniques = []\n",
    "        for i in range(features_number):\n",
    "            features_list = []\n",
    "            for j in range(len(elements)):\n",
    "                features_list.append(elements[j][i])\n",
    "            uniques.append(np.unique(np.array(features_list)))\n",
    "        return uniques\n",
    "    \n",
    "    def get_leaf_not_completed(self, node):\n",
    "        if node.is_completed():\n",
    "            for side in range(len(node.get_childs())):\n",
    "                if node.get_child_at_index(side) != None and \\\n",
    "                    not node.get_child_at_index(side).is_completed():\n",
    "                        return node.get_child_at_index(side)\n",
    "            counter = 0\n",
    "            for side in range(len(node.get_childs())):\n",
    "                if (node.get_child_at_index(side).is_completed()):\n",
    "                    counter += 1\n",
    "            if counter == len(node.get_childs()):\n",
    "                new_node = self.get_leaf_not_completed(node.get_childs[0])\n",
    "                if new_node == None:\n",
    "                    return self.get_leaf_not_completed(node.get_childs[1])\n",
    "                else:\n",
    "                    return new_node\n",
    "            else:\n",
    "                return None\n",
    "        return node\n",
    "    \n",
    "    def compare_two_leafs(self, leaf_1, leaf_2):\n",
    "        label_1 = leaf_1.labels\n",
    "        label_2 = leaf_2.labels\n",
    "        if len(label_1) == len(label_2):\n",
    "            for i in range(len(label_1)):\n",
    "                if label_1[i] != label_2[i]:\n",
    "                    return False\n",
    "            return True\n",
    "        return False\n",
    "    \n",
    "    def find_leaf_not_completed(self):\n",
    "        return self.get_leaf_not_completed(self.root_node)\n",
    "    \n",
    "    def print_tree(self, root_node):\n",
    "        leafs_exists=True\n",
    "        level = 0\n",
    "\n",
    "        print(\"Level: \" + str(level))\n",
    "        print(str(root_node.get_elements()))\n",
    "        print(str(root_node.get_labels()))\n",
    "\n",
    "        current_nodes=[]\n",
    "        childs = root_node.get_childs()\n",
    "        for i in range(len(childs)):\n",
    "            current_nodes.append([root_node,childs[i]])\n",
    "\n",
    "        while leafs_exists:\n",
    "            level = level + 1\n",
    "            print(\"Level: \" + str(level))\n",
    "            new_nodes = []\n",
    "            for i in range(len(current_nodes)):\n",
    "                print(\"ancestor: \"+ str(current_nodes[i][0].get_elements()) + \" \" + str(current_nodes[i][0].get_labels()))\n",
    "                print(\"child: \"   + str(current_nodes[i][1].get_elements()) + \" \" + str(current_nodes[i][1].get_labels()))\n",
    "                print(\"\")\n",
    "                if current_nodes[i][1].get_childs() != None:\n",
    "                    childs = current_nodes[i][1].gets()\n",
    "                    for j in range(len(childs)):\n",
    "                        new_nodes.append([current_nodes[i][1],childs[j]])\n",
    "            if len(new_nodes) == 0:\n",
    "                leafs_exists = False\n",
    "            else:\n",
    "                current_nodes = new_nodes"
   ]
  },
  {
   "cell_type": "code",
   "execution_count": 4,
   "metadata": {},
   "outputs": [],
   "source": [
    "class BinaryLeaf:\n",
    "    \n",
    "    def __init__(self, elements, labels):\n",
    "        self.completed = False\n",
    "        self.labels = labels\n",
    "        self.elements = elements\n",
    "        self.L = None\n",
    "        self.R = None\n",
    "        self.threshold_level = None\n",
    "        \n",
    "    def set_elements(self, elements):\n",
    "        self.elements = elements\n",
    "    \n",
    "    def get_elements(self):\n",
    "        return self.elements\n",
    "    \n",
    "    def set_L(self, L_node):\n",
    "        self.L = L_node\n",
    "    \n",
    "    def set_R(self, R_node):\n",
    "        self.R = R_node\n",
    "        \n",
    "    def get_L(self):\n",
    "        return self.L\n",
    "    \n",
    "    def get_R(self):\n",
    "        return self.R\n",
    "        \n",
    "    def set_completed(self):\n",
    "        self.completed = True\n",
    "        \n",
    "    def is_completed(self):\n",
    "        return self.completed\n",
    "    \n",
    "    def set_labels(self, labels):\n",
    "        self.labels = labels\n",
    "    \n",
    "    def get_labels(self):\n",
    "        return self.labels\n",
    "    \n",
    "    def get_threshold_level(self):\n",
    "        return threshold_level\n",
    "    \n",
    "    def set_threshold_level(self, threshold):\n",
    "        self.threshold_level = threshold\n",
    "        \n",
    "    def get_child_leafs(self):\n",
    "        return [self.get_L(), self.get_R()]"
   ]
  },
  {
   "cell_type": "code",
   "execution_count": 5,
   "metadata": {},
   "outputs": [],
   "source": [
    "class TreeUtils:\n",
    "\n",
    "    def __init__(self, root):\n",
    "        self.root_node = root\n",
    "\n",
    "    def get_unique_labels(self, labels):\n",
    "        return np.unique(np.array(labels)).tolist()\n",
    "\n",
    "    def get_unique_values(self, elements):\n",
    "        features_number = len(elements[0])\n",
    "        uniques = []\n",
    "        for i in range(features_number):\n",
    "            features_list = []\n",
    "            for j in range(len(elements)):\n",
    "                features_list.append(elements[j][i])\n",
    "            uniques.append(np.unique(np.array(features_list)))\n",
    "        return uniques\n",
    "\n",
    "    def get_binary_leaf_not_completed(self, node):\n",
    "        if node.is_completed():\n",
    "            if node.get_L() != None and not node.get_L().is_completed():\n",
    "                return node.get_L()\n",
    "            elif node.get_R() != None and not node.get_R().is_completed():\n",
    "                return node.get_R()\n",
    "            elif node.get_L() == None and node.get_R() == None:\n",
    "                return None\n",
    "            elif node.get_L().is_completed() or node.get_R().is_completed():\n",
    "                new_node = self.get_binary_leaf_not_completed(node.get_L())\n",
    "                if new_node == None:\n",
    "                    return self.get_binary_leaf_not_completed(node.get_R())\n",
    "                else:\n",
    "                    return new_node\n",
    "            else:\n",
    "                return None\n",
    "        return node\n",
    "\n",
    "    def find_binary_leaf_not_completed(self):\n",
    "        return self.get_binary_leaf_not_completed(self.root_node)\n",
    "\n",
    "    def is_leaf_completed(self, node):\n",
    "        if node.is_completed():\n",
    "            child_nodes = get_child_leafs()\n",
    "            if len(child_nodes) == 0:\n",
    "                return None\n",
    "            is_child_to_return = False\n",
    "            for i in range(len(child_nodes)):\n",
    "                if not child_nodes[i].is_completed():\n",
    "                    return child_nodes[i]\n",
    "                else:\n",
    "                    new_node = self.is_leaf_completed(child_nodes[i])\n",
    "                    if new_node != None:\n",
    "                        is_child_to_return=True\n",
    "            if is_child_to_return:\n",
    "                return new_node\n",
    "        return node\n",
    "\n",
    "    def find_leaf_not_completed(self):\n",
    "        return self.is_leaf_completed(self.root_node)\n",
    "\n",
    "    def print_binary_tree(self, root_node):\n",
    "        leafs_exists=True\n",
    "        level = 0\n",
    "\n",
    "        print(\"Level: \" + str(level))\n",
    "        print(str(root_node.get_elements()))\n",
    "        print(str(root_node.get_labels()))\n",
    "\n",
    "        current_nodes=[]\n",
    "        if root_node.get_L() != None:\n",
    "            current_nodes.append([root_node, root_node.get_L()])\n",
    "        if root_node.get_R() != None:\n",
    "            current_nodes.append([root_node, root_node.get_R()])\n",
    "\n",
    "        while leafs_exists:\n",
    "            level = level + 1\n",
    "            print(\"Level: \" + str(level))\n",
    "            new_nodes = []\n",
    "            for i in range(len(current_nodes)):\n",
    "                print(\"ancestor: \"+ str(current_nodes[i][0].get_elements()) + \" \" + str(current_nodes[i][0].get_labels()))\n",
    "                print(\"child: \"   + str(current_nodes[i][1].get_elements()) + \" \" + str(current_nodes[i][1].get_labels()))\n",
    "                print(\"\")\n",
    "                if current_nodes[i][1].get_L() != None:\n",
    "                    new_nodes.append([current_nodes[i][1], current_nodes[i][1].get_L()])\n",
    "                if current_nodes[i][1].get_R() != None:\n",
    "                    new_nodes.append([current_nodes[i][1], current_nodes[i][1].get_R()])\n",
    "            if len(new_nodes) == 0:\n",
    "                leafs_exists = False\n",
    "            else:\n",
    "                current_nodes = new_nodes    "
   ]
  },
  {
   "cell_type": "code",
   "execution_count": 6,
   "metadata": {},
   "outputs": [],
   "source": [
    "root = BinaryLeaf(X, labels)\n",
    "tree = TreeUtils(root)\n",
    "current_node = root"
   ]
  },
  {
   "cell_type": "code",
   "execution_count": 7,
   "metadata": {},
   "outputs": [],
   "source": [
    "def get_current_node(tree):\n",
    "    return tree.find_binary_leaf_not_completed()"
   ]
  },
  {
   "cell_type": "code",
   "execution_count": 8,
   "metadata": {},
   "outputs": [
    {
     "name": "stdout",
     "output_type": "stream",
     "text": [
      "Level: 0\n",
      "[[1, 1, 2, 2], [2, 1, 2, 2], [1, 1, 1, 2], [1, 2, 1, 2], [2, 3, 2, 2], [2, 2, 1, 2], [3, 2, 2, 1], [1, 3, 2, 2], [3, 3, 2, 1], [2, 3, 1, 2], [3, 1, 1, 1], [1, 2, 1, 1], [2, 3, 1, 1], [2, 1, 1, 2], [2, 2, 1, 1]]\n",
      "[1, 1, -1, 1, -1, -1, 1, 1, 1, 1, 1, 1, -1, -1, -1]\n",
      "Level: 1\n"
     ]
    }
   ],
   "source": [
    "tree.print_binary_tree(root)"
   ]
  },
  {
   "cell_type": "code",
   "execution_count": 9,
   "metadata": {},
   "outputs": [
    {
     "name": "stdout",
     "output_type": "stream",
     "text": [
      "<__main__.BinaryLeaf object at 0x106c42a20>\n"
     ]
    }
   ],
   "source": [
    "print(get_current_node(tree))"
   ]
  },
  {
   "cell_type": "code",
   "execution_count": 10,
   "metadata": {},
   "outputs": [],
   "source": [
    "def get_split_best(candidate):\n",
    "    split_list = list()\n",
    "    for iter in range(len(candidate)):\n",
    "        current_list = list()\n",
    "        temp_list = copy.deepcopy(candidate)\n",
    "        current_list.append(temp_list[iter])\n",
    "        del temp_list[iter]\n",
    "        current_list.append(temp_list)\n",
    "        split_list.append(current_list)\n",
    "    return split_list"
   ]
  },
  {
   "cell_type": "code",
   "execution_count": 11,
   "metadata": {},
   "outputs": [
    {
     "name": "stdout",
     "output_type": "stream",
     "text": [
      "[[1, [2, 3, 4]], [2, [1, 3, 4]], [3, [1, 2, 4]], [4, [1, 2, 3]]]\n"
     ]
    }
   ],
   "source": [
    "print(get_split_best([1,2,3,4]))"
   ]
  },
  {
   "cell_type": "code",
   "execution_count": 12,
   "metadata": {},
   "outputs": [],
   "source": [
    "def check_only_one_unique(values):\n",
    "    if len(values) == 1:\n",
    "        return True\n",
    "    return False"
   ]
  },
  {
   "cell_type": "code",
   "execution_count": 99,
   "metadata": {},
   "outputs": [],
   "source": [
    "# This version of gini impurity counting is not working right know\n",
    "# and left there for future improvements\n",
    "def gini_index(labels):\n",
    "    if len(labels) == 0:\n",
    "        return 0\n",
    "    uniques = np.unique(labels)\n",
    "    gini = 0\n",
    "    for label in uniques:\n",
    "        counter = labels.count(label)\n",
    "#         counter = np.where(labels == label)\n",
    "        gini += counter/len(labels)\n",
    "        gini = np.square(gini)\n",
    "    return 1 - gini"
   ]
  },
  {
   "cell_type": "code",
   "execution_count": 100,
   "metadata": {},
   "outputs": [],
   "source": [
    "def gini_impurity(labels):\n",
    "    return sum((labels.count(label)/len(labels))\\\n",
    "               *(1-(labels.count(label)/len(labels)))\\\n",
    "               for label in labels)"
   ]
  },
  {
   "cell_type": "code",
   "execution_count": 101,
   "metadata": {},
   "outputs": [
    {
     "data": {
      "text/plain": [
       "0.95475803499678491"
      ]
     },
     "execution_count": 101,
     "metadata": {},
     "output_type": "execute_result"
    }
   ],
   "source": [
    "gini_index([1, 2, 3, 4, 5, 6, 7, 8, 9, 9])"
   ]
  },
  {
   "cell_type": "code",
   "execution_count": 114,
   "metadata": {},
   "outputs": [],
   "source": [
    "def get_best_split_on_feature_by_gini(leaf):\n",
    "    labels = np.array(leaf.get_labels())\n",
    "    elements = np.array(leaf.get_elements())\n",
    "    features_number = len(elements[0])\n",
    "    gini_splits = list()\n",
    "    for i in range(features_number):\n",
    "        feature_ginis = list()\n",
    "        feature_column = elements[:, i]\n",
    "        for feature in feature_column:\n",
    "            first_group = feature_column <= feature\n",
    "            left_labels = labels[first_group]\n",
    "            right_labels = labels[~first_group]\n",
    "#             print(feature_column, feature, len(first_group), len(left_labels), len(right_labels), left_labels, right_labels)\n",
    "            gini = 1 - gini_index(left_labels.tolist()) - gini_index(right_labels.tolist())\n",
    "#             print(gini_index(left_labels.tolist()), gini_index(right_labels.tolist()))\n",
    "            feature_ginis.append([feature, gini])\n",
    "#             print(feature, gini)\n",
    "        gini_splits.append(min(feature_ginis))\n",
    "    return gini_splits"
   ]
  },
  {
   "cell_type": "code",
   "execution_count": 115,
   "metadata": {},
   "outputs": [
    {
     "data": {
      "text/plain": [
       "[[1, 0.26810000000000012],\n",
       " [1, 0.1552],\n",
       " [1, 0.30865150129553431],\n",
       " [1, 0.17207742722145991]]"
      ]
     },
     "execution_count": 115,
     "metadata": {},
     "output_type": "execute_result"
    }
   ],
   "source": [
    "get_best_split_on_feature_by_gini(root)"
   ]
  },
  {
   "cell_type": "code",
   "execution_count": 18,
   "metadata": {},
   "outputs": [],
   "source": [
    "def create_decision_tree(tree, root):\n",
    "    stop = False\n",
    "    while stop == False:\n",
    "        uniques = tree.get_unique_values(root.get_elements())\n",
    "        \n",
    "        for i in range(len(uniques)):\n",
    "            if check_only_one_unique(uniques[i]):\n",
    "                continue\n",
    "            split_candidate = get_split_best(uniques[i].tolist())\n",
    "            print(split_candidate)\n",
    "            \n",
    "            for j in range(len(split_candidate)):\n",
    "                \n",
    "        stop = True"
   ]
  },
  {
   "cell_type": "code",
   "execution_count": 19,
   "metadata": {},
   "outputs": [
    {
     "name": "stdout",
     "output_type": "stream",
     "text": [
      "[[1, [2, 3]], [2, [1, 3]], [3, [1, 2]]]\n",
      "[[1, [2, 3]], [2, [1, 3]], [3, [1, 2]]]\n",
      "[[1, [2]], [2, [1]]]\n",
      "[[1, [2]], [2, [1]]]\n"
     ]
    }
   ],
   "source": [
    "create_decision_tree(tree, root)"
   ]
  },
  {
   "cell_type": "code",
   "execution_count": null,
   "metadata": {},
   "outputs": [],
   "source": []
  }
 ],
 "metadata": {
  "kernelspec": {
   "display_name": "Python 3",
   "language": "python",
   "name": "python3"
  },
  "language_info": {
   "codemirror_mode": {
    "name": "ipython",
    "version": 3
   },
   "file_extension": ".py",
   "mimetype": "text/x-python",
   "name": "python",
   "nbconvert_exporter": "python",
   "pygments_lexer": "ipython3",
   "version": "3.6.4"
  }
 },
 "nbformat": 4,
 "nbformat_minor": 2
}
