{
 "cells": [
  {
   "cell_type": "markdown",
   "metadata": {},
   "source": [
    "# Decision tree exercises with pruning"
   ]
  },
  {
   "cell_type": "markdown",
   "metadata": {},
   "source": [
    "Customers segmentation:\n",
    "    \n",
    "| Location|Category   | Gender | Product review  | Decision |\n",
    "|---------|-----------|--------|-----------------|--------|\n",
    "| Berlin | Furniture  | Male   | Checked Reviews | Bought |\n",
    "| London | Furniture  | Male   | Checked Reviews | Bought |\n",
    "| Berlin | Furniture  | Female | Checked Reviews | Did not bought |\n",
    "| Berlin | Textile    | Female | Checked Reviews | Bought |\n",
    "| London | Electronics| Male   | Checked Reviews | Did not bough |\n",
    "| London | Textile    | Female | Checked Reviews | Did not bough |\n",
    "| Paris  | Textile    | Male   | Did not checked | Bought |\n",
    "| Berlin | Electronics| Male   | Checked Reviews | Bought |\n",
    "| Paris  | Electronics| Male   | Did not checked | Bought |\n",
    "| London | Electronics| Female | Checked Reviews | Bought |\n",
    "| Paris  | Furniture  | Female | Did not checked | Bought |\n",
    "| Berlin | Textile    | Female | Did not checked | Bought |\n",
    "| London | Electronics| Female | Did not checked | Did not bough |\n",
    "| London | Furniture  | Female | Checked Reviews | Did not bough |\n",
    "| London | Textile    | Female | Did not checked | Did not bough |"
   ]
  },
  {
   "cell_type": "code",
   "execution_count": 2,
   "metadata": {},
   "outputs": [],
   "source": [
    "import numpy\n",
    "\n",
    "labels = [1,1,-1,1,-1,-1,1,1,1,1,1,1,-1,-1,-1]\n",
    "X = [[1,1,2,2],[2,1,2,2],[1,1,1,2],[1,2,1,2],[2,3,2,2],\n",
    "                [2,2,1,2],[3,2,2,1],[1,3,2,2],[3,3,2,1],[2,3,1,2],\n",
    "                [3,1,1,1],[1,2,1,1],[2,3,1,1],[2,1,1,2],[2,2,1,1]]"
   ]
  },
  {
   "cell_type": "code",
   "execution_count": 10,
   "metadata": {},
   "outputs": [],
   "source": [
    "class Leaf:\n",
    "    \n",
    "    def __init__(self, elements, labels):\n",
    "        self.completed = False\n",
    "        self.labels = labels\n",
    "        self.elements = elements\n",
    "        self.childs = []\n",
    "        \n",
    "    def get_elements(self):\n",
    "        return self.elements\n",
    "    \n",
    "    def set_childs(self, new_leafs):\n",
    "        self.childs = new_leafs\n",
    "        \n",
    "    def set_completed(self):\n",
    "        self.completed = True\n",
    "        \n",
    "    def is_completed(self):\n",
    "        return self.completed\n",
    "    \n",
    "    def get_labels(self):\n",
    "        return self.labels\n",
    "    \n",
    "    def get_childs(self):\n",
    "        return self.childs\n",
    "    \n",
    "    def get_child_at_index(self, idx):\n",
    "        return self.childs[idx]"
   ]
  },
  {
   "cell_type": "code",
   "execution_count": 11,
   "metadata": {},
   "outputs": [],
   "source": [
    "class TreeUtils:\n",
    "    \n",
    "    def __init__(self, root):\n",
    "        self.root_node = root\n",
    "    \n",
    "    def get_unique_labels(self, labels):\n",
    "        return numpy.unique(numpy.array(labels)).tolist()\n",
    "    \n",
    "    def get_unique_values(self, elements):\n",
    "        features_number = len(elements[0])\n",
    "        unique = []\n",
    "        for i in range(features_number):\n",
    "            features_list = []\n",
    "            for j in range(len(elements)):\n",
    "                features_list.append(elements[j][i])\n",
    "            unique.append(numpy.unique(numpy.array(features_list)))\n",
    "        return unique\n",
    "    \n",
    "    def is_leaf_completed(self, node):\n",
    "        if node.is_completed():\n",
    "            for side in range(len(node.get_childs())):\n",
    "                if node.get_child_at_index(side) != None and \\\n",
    "                    not node.get_child_at_index(side).is_completed():\n",
    "                        return node.get_child_at_index(side)\n",
    "            counter = 0\n",
    "            for side in range(len(node.get_childs())):\n",
    "                if (node.get_child_at_index(side).is_completed()):\n",
    "                    counter += 1\n",
    "            if counter == len(node.get_childs()):\n",
    "                new_node = self.is_leaf_completed(node.get_childs[0])\n",
    "                if new_node == None:\n",
    "                    return self.is_leaf_completed(node.get_childs[1])\n",
    "                else:\n",
    "                    return new_node\n",
    "            else:\n",
    "                return None\n",
    "        return node\n",
    "    \n",
    "    def compare_two_leafs(self, leaf_1, leaf_2):\n",
    "        label_1 = leaf_1.labels\n",
    "        label_2 = leaf_2.labels\n",
    "        if len(label_1) == len(label_2):\n",
    "            for i in range(len(label_1)):\n",
    "                if label_1[i] != label_2[i]:\n",
    "                    return False\n",
    "            return True\n",
    "        return False\n",
    "    \n",
    "    def find_leaf_not_completed(self):\n",
    "        return self.is_leaf_completed(self.root_node)\n",
    "    \n",
    "    def print_tree(self, root_node):\n",
    "        leafs_exists=True\n",
    "        level = 0\n",
    "\n",
    "        print(\"Level: \" + str(level))\n",
    "        print(str(root_node.get_elements()))\n",
    "        print(str(root_node.get_labels()))\n",
    "\n",
    "        current_nodes=[]\n",
    "        childs = root_node.get_childs()\n",
    "        for i in range(len(childs)):\n",
    "            current_nodes.append([root_node,childs[i]])\n",
    "\n",
    "        while leafs_exists:\n",
    "            level = level + 1\n",
    "            print(\"Level: \" + str(level))\n",
    "            new_nodes = []\n",
    "            for i in range(len(current_nodes)):\n",
    "                print(\"ancestor: \"+ str(current_nodes[i][0].get_elements()) + \" \" + str(current_nodes[i][0].get_labels()))\n",
    "                print(\"child: \"   + str(current_nodes[i][1].get_elements()) + \" \" + str(current_nodes[i][1].get_labels()))\n",
    "                print(\"\")\n",
    "                if current_nodes[i][1].get_childs() != None:\n",
    "                    childs = current_nodes[i][1].gets()\n",
    "                    for j in range(len(childs)):\n",
    "                        new_nodes.append([current_nodes[i][1],childs[j]])\n",
    "            if len(new_nodes) == 0:\n",
    "                leafs_exists = False\n",
    "            else:\n",
    "                current_nodes = new_nodes"
   ]
  },
  {
   "cell_type": "code",
   "execution_count": 12,
   "metadata": {},
   "outputs": [],
   "source": [
    "root = Leaf(X, labels)\n",
    "tree = TreeUtils(root)\n",
    "current_node = root"
   ]
  },
  {
   "cell_type": "code",
   "execution_count": 13,
   "metadata": {},
   "outputs": [],
   "source": [
    "def get_current_node(tree):\n",
    "    return tree.find_leaf_not_completed()"
   ]
  },
  {
   "cell_type": "code",
   "execution_count": 14,
   "metadata": {},
   "outputs": [
    {
     "name": "stdout",
     "output_type": "stream",
     "text": [
      "Level: 0\n",
      "[[1, 1, 2, 2], [2, 1, 2, 2], [1, 1, 1, 2], [1, 2, 1, 2], [2, 3, 2, 2], [2, 2, 1, 2], [3, 2, 2, 1], [1, 3, 2, 2], [3, 3, 2, 1], [2, 3, 1, 2], [3, 1, 1, 1], [1, 2, 1, 1], [2, 3, 1, 1], [2, 1, 1, 2], [2, 2, 1, 1]]\n",
      "[1, 1, -1, 1, -1, -1, 1, 1, 1, 1, 1, 1, -1, -1, -1]\n",
      "Level: 1\n"
     ]
    }
   ],
   "source": [
    "tree.print_tree(root)"
   ]
  },
  {
   "cell_type": "code",
   "execution_count": null,
   "metadata": {},
   "outputs": [],
   "source": []
  }
 ],
 "metadata": {
  "kernelspec": {
   "display_name": "Python 3",
   "language": "python",
   "name": "python3"
  },
  "language_info": {
   "codemirror_mode": {
    "name": "ipython",
    "version": 3
   },
   "file_extension": ".py",
   "mimetype": "text/x-python",
   "name": "python",
   "nbconvert_exporter": "python",
   "pygments_lexer": "ipython3",
   "version": "3.6.4"
  }
 },
 "nbformat": 4,
 "nbformat_minor": 2
}
