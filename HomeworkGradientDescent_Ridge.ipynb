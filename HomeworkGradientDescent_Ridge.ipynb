{
 "cells": [
  {
   "cell_type": "markdown",
   "metadata": {},
   "source": [
    "## Implementation of Gradient Descent algorithm with Ridge Regression for shrinkage the coefficient"
   ]
  },
  {
   "cell_type": "code",
   "execution_count": 1,
   "metadata": {},
   "outputs": [],
   "source": [
    "import os\n",
    "import math\n",
    "import pandas as pd\n",
    "import numpy as np\n",
    "from sklearn.linear_model import LinearRegression, Ridge, Lasso\n",
    "from statsmodels.regression.linear_model import OLS\n",
    "import matplotlib.pyplot as plt\n",
    "%matplotlib inline\n",
    "from sklearn.model_selection import train_test_split"
   ]
  },
  {
   "cell_type": "code",
   "execution_count": 2,
   "metadata": {},
   "outputs": [
    {
     "name": "stdout",
     "output_type": "stream",
     "text": [
      "['glass.csv', 'dataset_4.txt', 'dataset_3.txt', 'dataset_2.txt', 'dataset_1.txt', 'ign.csv', 'spam.csv']\n"
     ]
    }
   ],
   "source": [
    "print(os.listdir('datasets'))"
   ]
  },
  {
   "cell_type": "code",
   "execution_count": 11,
   "metadata": {},
   "outputs": [
    {
     "name": "stdout",
     "output_type": "stream",
     "text": [
      "(2517, 15)\n"
     ]
    },
    {
     "name": "stderr",
     "output_type": "stream",
     "text": [
      "/Users/oziomek/anaconda3/lib/python3.6/site-packages/IPython/core/interactiveshell.py:2728: DtypeWarning: Columns (4) have mixed types. Specify dtype option on import or set low_memory=False.\n",
      "  interactivity=interactivity, compiler=compiler, result=result)\n"
     ]
    }
   ],
   "source": [
    "data = pd.read_csv('datasets/dataset_4.txt')\n",
    "df_x = data.iloc[:, 50:65]\n",
    "df_y = data.iloc[:,-1]\n",
    "\n",
    "num_predictors = np.shape(df_x)[1]\n",
    "data_expanded = pd.DataFrame({})\n",
    "\n",
    "# Loop\n",
    "for column in df_x.columns:\n",
    "    if df_x[column].dtype == np.dtype('object'):\n",
    "        encoded_col = pd.get_dummies(df_x[column])\n",
    "        data_expanded = pd.concat([data_expanded, encoded_col], axis=1) \n",
    "    else:\n",
    "        data_expanded = pd.concat([data_expanded, df_x[column]], axis=1) \n",
    "df_x = data_expanded.copy()\n",
    "data_expanded.head()\n",
    "\n",
    "print(df_x.shape)"
   ]
  },
  {
   "cell_type": "code",
   "execution_count": 193,
   "metadata": {},
   "outputs": [
    {
     "name": "stdout",
     "output_type": "stream",
     "text": [
      "<class 'pandas.core.frame.DataFrame'>\n",
      "Int64Index: 205 entries, 0 to 204\n",
      "Data columns (total 26 columns):\n",
      "horsepower           205 non-null float64\n",
      "highway-mpg          205 non-null float64\n",
      "symboling            205 non-null float64\n",
      "normalized-losses    205 non-null float64\n",
      "make                 205 non-null object\n",
      "fuel-type            205 non-null object\n",
      "aspiration           205 non-null object\n",
      "num-of-doors         205 non-null object\n",
      "body-style           205 non-null object\n",
      "drive-wheels         205 non-null object\n",
      "engine-location      205 non-null object\n",
      "wheel-base           205 non-null float64\n",
      "length               205 non-null float64\n",
      "width                205 non-null float64\n",
      "height               205 non-null float64\n",
      "curb-weight          205 non-null float64\n",
      "engine-type          205 non-null object\n",
      "num-of-cylinders     205 non-null object\n",
      "engine-size          205 non-null float64\n",
      "fuel-system          205 non-null object\n",
      "bore                 205 non-null float64\n",
      "stroke               205 non-null float64\n",
      "compression-ratio    205 non-null float64\n",
      "peak-rpm             205 non-null float64\n",
      "city-mpg             205 non-null float64\n",
      "price                205 non-null float64\n",
      "dtypes: float64(16), object(10)\n",
      "memory usage: 43.2+ KB\n"
     ]
    }
   ],
   "source": [
    "data = pd.read_csv('datasets/dataset_2.txt')\n",
    "data.info()"
   ]
  },
  {
   "cell_type": "code",
   "execution_count": 194,
   "metadata": {},
   "outputs": [
    {
     "name": "stdout",
     "output_type": "stream",
     "text": [
      "[1 2 3 4 5]\n"
     ]
    }
   ],
   "source": [
    "data['body-style'] = data['body-style'].map({'wagon': 1, 'hardtop': 2, 'sedan': 3, 'hatchback': 4, 'convertible': 5})\n",
    "make_list = data['body-style'].unique()\n",
    "print(make_list)"
   ]
  },
  {
   "cell_type": "code",
   "execution_count": 195,
   "metadata": {},
   "outputs": [
    {
     "name": "stdout",
     "output_type": "stream",
     "text": [
      "(205, 25) (205,)\n",
      "(205, 60)\n"
     ]
    }
   ],
   "source": [
    "y = data['body-style']\n",
    "X = data.drop('body-style', axis=1)\n",
    "print(X.shape, y.shape)\n",
    "categorical_bolean = (X.dtypes == \"object\").values\n",
    "X_numeric = X.loc[:, ~categorical_bolean]\n",
    "X_categorical = X.loc[:, categorical_bolean]\n",
    "X_dummies = pd.get_dummies(X_categorical)\n",
    "X_numeric = X_numeric / X_numeric.std(axis=0)\n",
    "X = pd.concat([X_numeric, X_dummies], axis=1)\n",
    "print(X.shape)\n",
    "\n",
    "X_train, X_test, y_train, y_test = train_test_split(X, y, test_size = 0.2, random_state = 2018)"
   ]
  },
  {
   "cell_type": "code",
   "execution_count": 196,
   "metadata": {},
   "outputs": [
    {
     "ename": "NameError",
     "evalue": "name 'data_expanded' is not defined",
     "output_type": "error",
     "traceback": [
      "\u001b[0;31m---------------------------------------------------------------------------\u001b[0m",
      "\u001b[0;31mNameError\u001b[0m                                 Traceback (most recent call last)",
      "\u001b[0;32m<ipython-input-196-4c3ff1a1169f>\u001b[0m in \u001b[0;36m<module>\u001b[0;34m()\u001b[0m\n\u001b[0;32m----> 1\u001b[0;31m \u001b[0mx\u001b[0m \u001b[0;34m=\u001b[0m \u001b[0mdata_expanded\u001b[0m\u001b[0;34m.\u001b[0m\u001b[0miloc\u001b[0m\u001b[0;34m[\u001b[0m\u001b[0;34m:\u001b[0m\u001b[0;34m,\u001b[0m \u001b[0;36m0\u001b[0m\u001b[0;34m:\u001b[0m\u001b[0;34m-\u001b[0m\u001b[0;36m1\u001b[0m\u001b[0;34m]\u001b[0m\u001b[0;34m.\u001b[0m\u001b[0mvalues\u001b[0m\u001b[0;34m\u001b[0m\u001b[0m\n\u001b[0m\u001b[1;32m      2\u001b[0m \u001b[0my\u001b[0m \u001b[0;34m=\u001b[0m \u001b[0mdf_y\u001b[0m\u001b[0;34m.\u001b[0m\u001b[0mvalues\u001b[0m\u001b[0;34m.\u001b[0m\u001b[0mreshape\u001b[0m\u001b[0;34m(\u001b[0m\u001b[0mlen\u001b[0m\u001b[0;34m(\u001b[0m\u001b[0mdf_y\u001b[0m\u001b[0;34m.\u001b[0m\u001b[0mvalues\u001b[0m\u001b[0;34m)\u001b[0m\u001b[0;34m,\u001b[0m \u001b[0;36m1\u001b[0m\u001b[0;34m)\u001b[0m\u001b[0;34m\u001b[0m\u001b[0m\n\u001b[1;32m      3\u001b[0m \u001b[0;34m\u001b[0m\u001b[0m\n\u001b[1;32m      4\u001b[0m \u001b[0;31m# Split into train and test set\u001b[0m\u001b[0;34m\u001b[0m\u001b[0;34m\u001b[0m\u001b[0m\n\u001b[1;32m      5\u001b[0m \u001b[0mn\u001b[0m \u001b[0;34m=\u001b[0m \u001b[0mx\u001b[0m\u001b[0;34m.\u001b[0m\u001b[0mshape\u001b[0m\u001b[0;34m[\u001b[0m\u001b[0;36m0\u001b[0m\u001b[0;34m]\u001b[0m\u001b[0;34m\u001b[0m\u001b[0m\n",
      "\u001b[0;31mNameError\u001b[0m: name 'data_expanded' is not defined"
     ]
    }
   ],
   "source": [
    "x = data_expanded.iloc[:, 0:-1].values\n",
    "y = df_y.values.reshape(len(df_y.values), 1)\n",
    "\n",
    "# Split into train and test set\n",
    "n = x.shape[0]\n",
    "n_train = int(np.round(n*0.75))\n",
    "indices = np.random.permutation(range(n))\n",
    "train_indices = indices[0:n_train]\n",
    "test_indices = indices[n_train:]\n",
    "\n",
    "# The first 25% are in the training set, the rest is in the test set (assuming the data has been ran. shuffeled) \n",
    "X_train = x[train_indices,:]\n",
    "y_train = y[train_indices]\n",
    "X_test = x[test_indices,:]\n",
    "y_test = y[test_indices]"
   ]
  },
  {
   "cell_type": "code",
   "execution_count": 384,
   "metadata": {},
   "outputs": [],
   "source": [
    "class GradientDescent:\n",
    "    def __init__(self):\n",
    "        pass\n",
    "    \n",
    "    def fit(self, X, y, learning_rate=0.0001, iters = 1000):\n",
    "        self.X = X\n",
    "        self.y = y\n",
    "        self.learning_rate = learning_rate\n",
    "        self.iters = iters\n",
    "        self.m, self.b = self.gradient()\n",
    "        \n",
    "    def gradient(self):\n",
    "        N = float(len(self.y))\n",
    "        self.m, self.b = 0, 0\n",
    "        b_grad, m_grad = 0, 0\n",
    "        for i in range(self.iters):\n",
    "#             y_temp = np.add(np.multiply(m,self.X), b)\n",
    "# #             y_diff = np.subtract(self.y, y_temp)\n",
    "# #             print('Y_DIFF', y_diff)\n",
    "#             MSE = sum([error**2 for error in (self.y - y_temp)]) / N\n",
    "#             print('MSE', MSE)\n",
    "#             m_gradient = -(2/N) * sum(self.X * (self.y - y_temp))\n",
    "#             b_gradient = -(2/N) * sum(self.y - y_temp)\n",
    "#             m -= (self.learning_rate * m_gradient)\n",
    "#             b -= (self.learning_rate * b_gradient)\n",
    "            for j in range(len(self.y)):\n",
    "                x, y = self.X[j], self.y[j]\n",
    "                b_grad += -(2/N) * (y - ((self.m * x) + self.b))\n",
    "                m_grad += -(2/N) * x * (y - ((self.m * x) + self.b))\n",
    "            m = - (self.learning_rate * m_grad)\n",
    "            b = - (self.learning_rate * b_grad)\n",
    "        self.m, self.b = m, b\n",
    "        return self.m, self.b # , MSE\n",
    "\n",
    "    def score(self, X_test, y_test):\n",
    "        self.X_test = X_test\n",
    "        self.y_test = y_test\n",
    "        y = self.m*self.X_test + self.b\n",
    "        error = 0\n",
    "        for i in range(len(self.y_test)):\n",
    "            x = self.X_test[i]\n",
    "            y = self.y_test[i]\n",
    "            error += (y - (self.m * x + self.b)) ** 2\n",
    "        return error / float(len(error))"
   ]
  },
  {
   "cell_type": "code",
   "execution_count": 385,
   "metadata": {},
   "outputs": [],
   "source": [
    "class RidgeRegression:\n",
    "    def __init__(self, alpha=1.0):\n",
    "        self.alpha = alpha\n",
    "    \n",
    "    def fit(self, X, y):\n",
    "        self.X = X\n",
    "        self.y = y\n",
    "        self.model = self.ridge()\n",
    "        \n",
    "    def ridge(self):\n",
    "        n, p = np.shape(self.X)\n",
    "        self.X = np.concatenate((self.X, np.sqrt(10.0**self.alpha) * np.identity(p)), axis=0)\n",
    "        self.y = np.concatenate((self.y, np.zeros(p)), axis=0)\n",
    "        self.model = LinearRegression() # GradientDescent()\n",
    "        self.model.fit(self.X, self.y)\n",
    "        return self.model\n",
    "        \n",
    "    def score(self, X_test, y_test):\n",
    "        self.X_test = X_test\n",
    "        self.y_test = y_test\n",
    "        n, p = np.shape(self.X_test)\n",
    "        self.X_test = np.concatenate((self.X_test, np.sqrt(10.0**self.alpha) * np.identity(p)), axis=0)\n",
    "        self.y_test = np.concatenate((y_test, np.zeros(p)), axis=0)\n",
    "        return self.model.score(self.X_test, self.y_test)"
   ]
  },
  {
   "cell_type": "code",
   "execution_count": 386,
   "metadata": {},
   "outputs": [
    {
     "name": "stdout",
     "output_type": "stream",
     "text": [
      "<class 'pandas.core.frame.DataFrame'> <class 'pandas.core.series.Series'>\n"
     ]
    }
   ],
   "source": [
    "print(type(X_train), type(y_train))"
   ]
  },
  {
   "cell_type": "code",
   "execution_count": 387,
   "metadata": {},
   "outputs": [],
   "source": [
    "ridge_reg = Ridge(alpha=1.0)\n",
    "ridge_reg.fit(X_train, y_train)\n",
    "train_rsquared = ridge_reg.score(X_train, y_train)\n",
    "test_rsquared = ridge_reg.score(X_test, y_test)"
   ]
  },
  {
   "cell_type": "code",
   "execution_count": 388,
   "metadata": {},
   "outputs": [
    {
     "name": "stdout",
     "output_type": "stream",
     "text": [
      "Ridge regression R^2 score: training  0.707981561395\n",
      "Ridge regression R^2 score: test  0.232188977637\n"
     ]
    }
   ],
   "source": [
    "print('Ridge regression R^2 score: training ', train_rsquared)\n",
    "print('Ridge regression R^2 score: test ', test_rsquared)"
   ]
  },
  {
   "cell_type": "code",
   "execution_count": 389,
   "metadata": {},
   "outputs": [],
   "source": [
    "ridge_reg_impl = RidgeRegression(alpha=1.0)\n",
    "ridge_reg_impl.fit(X_train, y_train)\n",
    "train_rsquared_impl = ridge_reg_impl.score(X_train, y_train)\n",
    "test_rsquared_impl = ridge_reg_impl.score(X_test, y_test)"
   ]
  },
  {
   "cell_type": "code",
   "execution_count": 390,
   "metadata": {},
   "outputs": [
    {
     "name": "stdout",
     "output_type": "stream",
     "text": [
      "Ridge regression R^2 score: training  0.869854167191\n",
      "Ridge regression R^2 score: test  0.873746778566\n"
     ]
    }
   ],
   "source": [
    "print('Ridge regression R^2 score: training ', train_rsquared_impl)\n",
    "print('Ridge regression R^2 score: test ', test_rsquared_impl)"
   ]
  },
  {
   "cell_type": "code",
   "execution_count": 444,
   "metadata": {},
   "outputs": [],
   "source": [
    "lambdas = np.linspace(-3, 3, 100)\n",
    "r2_train, r2_test = np.zeros(len(lambdas)), np.zeros(len(lambdas)) \n",
    "r2_train_impl, r2_test_impl = np.zeros(len(lambdas)), np.zeros(len(lambdas))"
   ]
  },
  {
   "cell_type": "code",
   "execution_count": 445,
   "metadata": {},
   "outputs": [
    {
     "name": "stdout",
     "output_type": "stream",
     "text": [
      "R2_train:  0.72117230598 R2_test:  -4.78353872631e+26 R2_train_impl:  0.909592654643 R2_train_impl:  0.882702901249\n",
      "R2_train:  0.707981561395 R2_test:  0.232188977637 R2_train_impl:  0.869854167191 R2_train_impl:  0.873746778566\n",
      "R2_train:  0.683238916644 R2_test:  0.26391893377 R2_train_impl:  0.81646851514 R2_train_impl:  0.854702884798\n",
      "R2_train:  0.664059903884 R2_test:  0.278793783663 R2_train_impl:  0.749686820999 R2_train_impl:  0.835332964426\n",
      "R2_train:  0.648170461789 R2_test:  0.287049606248 R2_train_impl:  0.681393886052 R2_train_impl:  0.821196736614\n",
      "R2_train:  0.634589004893 R2_test:  0.291999262588 R2_train_impl:  0.746628815059 R2_train_impl:  0.884517720951\n",
      "R2_train:  0.622753673401 R2_test:  0.295092363108 R2_train_impl:  0.736624699532 R2_train_impl:  0.88005891658\n",
      "R2_train:  0.612294425468 R2_test:  0.297062228186 R2_train_impl:  0.734475156734 R2_train_impl:  0.87896505759\n",
      "R2_train:  0.602948490792 R2_test:  0.298315014664 R2_train_impl:  0.733879053374 R2_train_impl:  0.878640179409\n",
      "R2_train:  0.594520626575 R2_test:  0.299090636026 R2_train_impl:  0.733698211474 R2_train_impl:  0.87853919546\n",
      "R2_train:  0.586861276378 R2_test:  0.299537964866 R2_train_impl:  0.733641769719 R2_train_impl:  0.878507426407\n",
      "R2_train:  0.579853279904 R2_test:  0.299753109215 R2_train_impl:  0.733623995174 R2_train_impl:  0.878497396321\n",
      "R2_train:  0.573403219018 R2_test:  0.299800186425 R2_train_impl:  0.73361838174 R2_train_impl:  0.878494226137\n",
      "R2_train:  0.567435511627 R2_test:  0.299723184779 R2_train_impl:  0.733616607353 R2_train_impl:  0.878493223797\n",
      "R2_train:  0.561888240388 R2_test:  0.299553023459 R2_train_impl:  0.733616046316 R2_train_impl:  0.878492906845\n",
      "R2_train:  0.556710128211 R2_test:  0.299311903742 R2_train_impl:  0.733615868908 R2_train_impl:  0.878492806618\n",
      "R2_train:  0.551858298609 R2_test:  0.299016072092 R2_train_impl:  0.733615812807 R2_train_impl:  0.878492774923\n",
      "R2_train:  0.547296587993 R2_test:  0.298677621067 R2_train_impl:  0.733615795067 R2_train_impl:  0.8784927649\n",
      "R2_train:  0.542994254756 R2_test:  0.298305690405 R2_train_impl:  0.733615789457 R2_train_impl:  0.878492761731\n",
      "R2_train:  0.538924978938 R2_test:  0.297907284675 R2_train_impl:  0.733615787683 R2_train_impl:  0.878492760729\n",
      "R2_train:  0.53506607804 R2_test:  0.297487840303 R2_train_impl:  0.733615787122 R2_train_impl:  0.878492760412\n",
      "R2_train:  0.531397885878 R2_test:  0.297051625473 R2_train_impl:  0.733615786944 R2_train_impl:  0.878492760312\n",
      "R2_train:  0.527903255927 R2_test:  0.296602026515 R2_train_impl:  0.733615786888 R2_train_impl:  0.87849276028\n",
      "R2_train:  0.524567160755 R2_test:  0.29614175596 R2_train_impl:  0.73361578687 R2_train_impl:  0.87849276027\n",
      "R2_train:  0.521376366401 R2_test:  0.295673005654 R2_train_impl:  0.733615786865 R2_train_impl:  0.878492760267\n",
      "R2_train:  0.5183191657 R2_test:  0.295197560846 R2_train_impl:  0.733615786863 R2_train_impl:  0.878492760266\n",
      "R2_train:  0.515385158409 R2_test:  0.294716886153 R2_train_impl:  0.733615786862 R2_train_impl:  0.878492760265\n",
      "R2_train:  0.512565068749 R2_test:  0.29423219105 R2_train_impl:  0.733615786862 R2_train_impl:  0.878492760265\n",
      "R2_train:  0.509850593086 R2_test:  0.293744480231 R2_train_impl:  0.733615786862 R2_train_impl:  0.878492760265\n",
      "R2_train:  0.50723427207 R2_test:  0.293254592742 R2_train_impl:  0.733615786862 R2_train_impl:  0.878492760265\n",
      "R2_train:  0.50470938273 R2_test:  0.292763232623 R2_train_impl:  0.733615786862 R2_train_impl:  0.878492760265\n",
      "R2_train:  0.502269846951 R2_test:  0.292270993126 R2_train_impl:  0.733615786862 R2_train_impl:  0.878492760265\n",
      "R2_train:  0.499910153486 R2_test:  0.291778376003 R2_train_impl:  0.733615786862 R2_train_impl:  0.878492760265\n",
      "R2_train:  0.497625291214 R2_test:  0.291285806972 R2_train_impl:  0.733615786862 R2_train_impl:  0.878492760265\n",
      "R2_train:  0.495410691755 R2_test:  0.290793648223 R2_train_impl:  0.733615786862 R2_train_impl:  0.878492760265\n",
      "R2_train:  0.493262179959 R2_test:  0.290302208584 R2_train_impl:  0.733615786862 R2_train_impl:  0.878492760265\n",
      "R2_train:  0.491175931011 R2_test:  0.289811751843 R2_train_impl:  0.733615786862 R2_train_impl:  0.878492760265\n",
      "R2_train:  0.489148433129 R2_test:  0.289322503599 R2_train_impl:  0.733615786862 R2_train_impl:  0.878492760265\n",
      "R2_train:  0.487176455034 R2_test:  0.288834656942 R2_train_impl:  0.733615786862 R2_train_impl:  0.878492760265\n",
      "R2_train:  0.485257017458 R2_test:  0.288348377169 R2_train_impl:  0.733615786862 R2_train_impl:  0.878492760265\n",
      "R2_train:  0.483387368135 R2_test:  0.287863805743 R2_train_impl:  0.733615786862 R2_train_impl:  0.878492760265\n",
      "R2_train:  0.481564959771 R2_test:  0.287381063607 R2_train_impl:  0.733615786862 R2_train_impl:  0.878492760265\n",
      "R2_train:  0.479787430583 R2_test:  0.286900253999 R2_train_impl:  0.733615786862 R2_train_impl:  0.878492760265\n",
      "R2_train:  0.478052587064 R2_test:  0.286421464822 R2_train_impl:  0.733615786862 R2_train_impl:  0.878492760265\n",
      "R2_train:  0.476358388673 R2_test:  0.285944770671 R2_train_impl:  0.733615786862 R2_train_impl:  0.878492760265\n",
      "R2_train:  0.474702934205 R2_test:  0.285470234565 R2_train_impl:  0.733615786862 R2_train_impl:  0.878492760265\n",
      "R2_train:  0.473084449626 R2_test:  0.28499790943 R2_train_impl:  0.733615786862 R2_train_impl:  0.878492760265\n",
      "R2_train:  0.471501277188 R2_test:  0.284527839375 R2_train_impl:  0.733615786862 R2_train_impl:  0.878492760265\n",
      "R2_train:  0.469951865672 R2_test:  0.284060060794 R2_train_impl:  0.733615786862 R2_train_impl:  0.878492760265\n",
      "R2_train:  0.468434761613 R2_test:  0.283594603318 R2_train_impl:  0.733615786862 R2_train_impl:  0.878492760265\n",
      "R2_train:  0.46694860141 R2_test:  0.283131490646 R2_train_impl:  0.733615786862 R2_train_impl:  0.878492760265\n",
      "R2_train:  0.465492104192 R2_test:  0.282670741263 R2_train_impl:  0.733615786862 R2_train_impl:  0.878492760265\n",
      "R2_train:  0.464064065384 R2_test:  0.282212369071 R2_train_impl:  0.733615786862 R2_train_impl:  0.878492760265\n",
      "R2_train:  0.462663350866 R2_test:  0.281756383935 R2_train_impl:  0.733615786862 R2_train_impl:  0.878492760265\n",
      "R2_train:  0.461288891683 R2_test:  0.281302792167 R2_train_impl:  0.733615786862 R2_train_impl:  0.878492760265\n",
      "R2_train:  0.459939679228 R2_test:  0.28085159695 R2_train_impl:  0.733615786862 R2_train_impl:  0.878492760265\n",
      "R2_train:  0.458614760865 R2_test:  0.280402798705 R2_train_impl:  0.733615786862 R2_train_impl:  0.878492760265\n",
      "R2_train:  0.457313235931 R2_test:  0.279956395426 R2_train_impl:  0.733615786862 R2_train_impl:  0.878492760265\n",
      "R2_train:  0.456034252087 R2_test:  0.279512382963 R2_train_impl:  0.733615786862 R2_train_impl:  0.878492760265\n",
      "R2_train:  0.454777001977 R2_test:  0.279070755282 R2_train_impl:  0.733615786862 R2_train_impl:  0.878492760265\n",
      "R2_train:  0.453540720171 R2_test:  0.27863150469 R2_train_impl:  0.733615786862 R2_train_impl:  0.878492760265\n",
      "R2_train:  0.452324680361 R2_test:  0.278194622036 R2_train_impl:  0.733615786862 R2_train_impl:  0.878492760265\n",
      "R2_train:  0.451128192778 R2_test:  0.277760096888 R2_train_impl:  0.733615786862 R2_train_impl:  0.878492760265\n",
      "R2_train:  0.449950601823 R2_test:  0.277327917694 R2_train_impl:  0.733615786862 R2_train_impl:  0.878492760265\n",
      "R2_train:  0.448791283884 R2_test:  0.27689807192 R2_train_impl:  0.733615786862 R2_train_impl:  0.878492760265\n",
      "R2_train:  0.447649645319 R2_test:  0.276470546179 R2_train_impl:  0.733615786862 R2_train_impl:  0.878492760265\n",
      "R2_train:  0.446525120596 R2_test:  0.276045326339 R2_train_impl:  0.733615786862 R2_train_impl:  0.878492760265\n",
      "R2_train:  0.445417170572 R2_test:  0.275622397625 R2_train_impl:  0.733615786862 R2_train_impl:  0.878492760265\n",
      "R2_train:  0.444325280905 R2_test:  0.275201744709 R2_train_impl:  0.733615786862 R2_train_impl:  0.878492760265\n",
      "R2_train:  0.443248960574 R2_test:  0.274783351784 R2_train_impl:  0.733615786862 R2_train_impl:  0.878492760265\n",
      "R2_train:  0.442187740514 R2_test:  0.274367202643 R2_train_impl:  0.733615786862 R2_train_impl:  0.878492760265\n",
      "R2_train:  0.441141172346 R2_test:  0.273953280736 R2_train_impl:  0.733615786862 R2_train_impl:  0.878492760265\n",
      "R2_train:  0.440108827192 R2_test:  0.27354156923 R2_train_impl:  0.733615786862 R2_train_impl:  0.878492760265\n",
      "R2_train:  0.439090294581 R2_test:  0.273132051058 R2_train_impl:  0.733615786862 R2_train_impl:  0.878492760265\n",
      "R2_train:  0.438085181423 R2_test:  0.272724708966 R2_train_impl:  0.733615786862 R2_train_impl:  0.878492760265\n",
      "R2_train:  0.437093111055 R2_test:  0.272319525551 R2_train_impl:  0.733615786862 R2_train_impl:  0.878492760265\n",
      "R2_train:  0.43611372235 R2_test:  0.2719164833 R2_train_impl:  0.733615786862 R2_train_impl:  0.878492760265\n",
      "R2_train:  0.435146668891 R2_test:  0.271515564622 R2_train_impl:  0.733615786862 R2_train_impl:  0.878492760265\n",
      "R2_train:  0.434191618187 R2_test:  0.271116751874 R2_train_impl:  0.733615786862 R2_train_impl:  0.878492760265\n",
      "R2_train:  0.433248250948 R2_test:  0.27072002739 R2_train_impl:  0.733615786862 R2_train_impl:  0.878492760265\n",
      "R2_train:  0.432316260407 R2_test:  0.270325373505 R2_train_impl:  0.733615786862 R2_train_impl:  0.878492760265\n",
      "R2_train:  0.43139535168 R2_test:  0.269932772571 R2_train_impl:  0.733615786862 R2_train_impl:  0.878492760265\n",
      "R2_train:  0.430485241168 R2_test:  0.269542206979 R2_train_impl:  0.733615786862 R2_train_impl:  0.878492760265\n",
      "R2_train:  0.429585655996 R2_test:  0.269153659175 R2_train_impl:  0.733615786862 R2_train_impl:  0.878492760265\n",
      "R2_train:  0.428696333483 R2_test:  0.268767111673 R2_train_impl:  0.733615786862 R2_train_impl:  0.878492760265\n",
      "R2_train:  0.427817020651 R2_test:  0.268382547068 R2_train_impl:  0.733615786862 R2_train_impl:  0.878492760265\n",
      "R2_train:  0.426947473757 R2_test:  0.267999948051 R2_train_impl:  0.733615786862 R2_train_impl:  0.878492760265\n",
      "R2_train:  0.426087457851 R2_test:  0.267619297412 R2_train_impl:  0.733615786862 R2_train_impl:  0.878492760265\n",
      "R2_train:  0.425236746368 R2_test:  0.267240578058 R2_train_impl:  0.733615786862 R2_train_impl:  0.878492760265\n",
      "R2_train:  0.424395120734 R2_test:  0.26686377301 R2_train_impl:  0.733615786862 R2_train_impl:  0.878492760265\n",
      "R2_train:  0.42356237 R2_test:  0.266488865421 R2_train_impl:  0.733615786862 R2_train_impl:  0.878492760265\n",
      "R2_train:  0.422738290498 R2_test:  0.266115838572 R2_train_impl:  0.733615786862 R2_train_impl:  0.878492760265\n",
      "R2_train:  0.421922685507 R2_test:  0.265744675885 R2_train_impl:  0.733615786862 R2_train_impl:  0.878492760265\n",
      "R2_train:  0.421115364951 R2_test:  0.265375360923 R2_train_impl:  0.733615786862 R2_train_impl:  0.878492760265\n",
      "R2_train:  0.4203161451 R2_test:  0.265007877393 R2_train_impl:  0.733615786862 R2_train_impl:  0.878492760265\n"
     ]
    },
    {
     "name": "stdout",
     "output_type": "stream",
     "text": [
      "R2_train:  0.4195248483 R2_test:  0.264642209154 R2_train_impl:  0.733615786862 R2_train_impl:  0.878492760265\n",
      "R2_train:  0.418741302702 R2_test:  0.264278340213 R2_train_impl:  0.733615786862 R2_train_impl:  0.878492760265\n",
      "R2_train:  0.417965342022 R2_test:  0.263916254736 R2_train_impl:  0.733615786862 R2_train_impl:  0.878492760265\n",
      "R2_train:  0.417196805303 R2_test:  0.263555937039 R2_train_impl:  0.733615786862 R2_train_impl:  0.878492760265\n",
      "R2_train:  0.41643553669 R2_test:  0.263197371598 R2_train_impl:  0.733615786862 R2_train_impl:  0.878492760265\n"
     ]
    }
   ],
   "source": [
    "for i in range(len(lambdas)):\n",
    "    model = Ridge(alpha=i)\n",
    "    model_impl = RidgeRegression(alpha=i)\n",
    "    model.fit(X_train, y_train)\n",
    "    model_impl.fit(X_train, y_train)\n",
    "    \n",
    "    r2_train[i] = model.score(X_train, y_train)\n",
    "    r2_test[i] = model.score(X_test, y_test)\n",
    "    r2_train_impl[i] = model_impl.score(X_train, y_train)\n",
    "    r2_test_impl[i] = model_impl.score(X_test, y_test)\n",
    "    print('R2_train: ', r2_train[i], 'R2_test: ', r2_test[i], 'R2_train_impl: ', r2_train_impl[i], 'R2_train_impl: ', r2_test_impl[i])"
   ]
  },
  {
   "cell_type": "code",
   "execution_count": 448,
   "metadata": {},
   "outputs": [],
   "source": [
    "# just temporary for presenting data in plot\n",
    "r2_test[0] = math.sqrt(r2_test[2] - r2_test[1])"
   ]
  },
  {
   "cell_type": "code",
   "execution_count": 449,
   "metadata": {},
   "outputs": [
    {
     "data": {
      "image/png": "[encoded data removed]",
      "text/plain": [
       "<matplotlib.figure.Figure at 0x1a1b1d47f0>"
      ]
     },
     "metadata": {},
     "output_type": "display_data"
    }
   ],
   "source": [
    "fig, ax = plt.subplots(1, 1, figsize=(22, 10))\n",
    "ax.semilogx(10.0**lambdas, (r2_train), c='b', label='Ridge: Train')\n",
    "ax.semilogx(10.0**lambdas, (r2_test), c='r', label='Ridge: Test')\n",
    "ax.semilogx(10.0**lambdas, (r2_train_impl), c='g', label='Ridge Implemented: Train')\n",
    "ax.semilogx(10.0**lambdas, (r2_test_impl), c='y', label='Ridge Implemented: Test')\n",
    "\n",
    "ax.set_xlabel('Regularization parameter $\\lambda$')\n",
    "ax.set_ylabel(r'$R^2$ score')\n",
    "ax.legend(loc = 'best')\n",
    "plt.grid()"
   ]
  },
  {
   "cell_type": "code",
   "execution_count": null,
   "metadata": {},
   "outputs": [],
   "source": []
  },
  {
   "cell_type": "code",
   "execution_count": null,
   "metadata": {},
   "outputs": [],
   "source": []
  }
 ],
 "metadata": {
  "kernelspec": {
   "display_name": "Python 3",
   "language": "python",
   "name": "python3"
  },
  "language_info": {
   "codemirror_mode": {
    "name": "ipython",
    "version": 3
   },
   "file_extension": ".py",
   "mimetype": "text/x-python",
   "name": "python",
   "nbconvert_exporter": "python",
   "pygments_lexer": "ipython3",
   "version": "3.6.4"
  }
 },
 "nbformat": 4,
 "nbformat_minor": 2
}
