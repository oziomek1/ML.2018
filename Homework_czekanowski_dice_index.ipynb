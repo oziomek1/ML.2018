{
 "cells": [
  {
   "cell_type": "markdown",
   "metadata": {},
   "source": [
    "## Implementation of Czekanowski-Dice index\n",
    "\n",
    "aka F1 Score\n",
    "\n",
    "### GOAL:"
   ]
  },
  {
   "cell_type": "markdown",
   "metadata": {},
   "source": [
    "Implement the Czekanowski-Dice index. \n",
    "\n",
    "\\begin{equation}\n",
    "C=2\\frac{P\\times R}{R+R}.\n",
    "\\end{equation}\n",
    "Precision is defined as:\n",
    "\\begin{equation}\n",
    "PPV=\\frac{\\#TP}{\\#TP+\\#FP}.\n",
    "\\end{equation}\n",
    "Recall is defined as:\n",
    "\\begin{equation}\n",
    "TPR=\\frac{\\#TP}{\\#TP+\\#FN}.\n",
    "\\end{equation}"
   ]
  },
  {
   "cell_type": "code",
   "execution_count": 1,
   "metadata": {},
   "outputs": [],
   "source": [
    "def precision(true_positive, false_positive):\n",
    "    return true_positive / (true_positive + false_positive)"
   ]
  },
  {
   "cell_type": "code",
   "execution_count": 2,
   "metadata": {},
   "outputs": [],
   "source": [
    "def recall(true_positive, false_negative):\n",
    "    return true_positive / (true_positive + false_negative)"
   ]
  },
  {
   "cell_type": "code",
   "execution_count": 3,
   "metadata": {},
   "outputs": [],
   "source": [
    "def f1_score(precision_score, recall_score):\n",
    "    return 2 * (precision_score * recall_score) / (precision_score + recall_score)"
   ]
  },
  {
   "cell_type": "code",
   "execution_count": 4,
   "metadata": {},
   "outputs": [],
   "source": [
    "def count_conditions(true_conditions, predicted_conditions):\n",
    "    false_positive = 0\n",
    "    true_positive = 0\n",
    "    false_negative = 0\n",
    "    for i in range(len(true_conditions)):\n",
    "        if true_conditions[i] == True and predicted_conditions[i] == True:\n",
    "            true_positive += 1\n",
    "        if true_conditions[i] == True and predicted_conditions[i] == False:\n",
    "            false_negative += 1\n",
    "        if true_conditions[i] == False and predicted_conditions[i] == True:\n",
    "            false_positive += 1\n",
    "    precision_score = precision(true_positive, false_positive)\n",
    "    recall_score = recall(true_positive, false_negative)\n",
    "    czekanowski_dice = f1_score(precision_score, recall_score)\n",
    "    print('Precision: {}'.format(precision_score))\n",
    "    print('Recall: {}'.format(recall_score))\n",
    "    print('Czekanowski-Dice index: {}'.format(czekanowski_dice))"
   ]
  },
  {
   "cell_type": "code",
   "execution_count": null,
   "metadata": {},
   "outputs": [],
   "source": []
  }
 ],
 "metadata": {
  "kernelspec": {
   "display_name": "Python 3",
   "language": "python",
   "name": "python3"
  },
  "language_info": {
   "codemirror_mode": {
    "name": "ipython",
    "version": 3
   },
   "file_extension": ".py",
   "mimetype": "text/x-python",
   "name": "python",
   "nbconvert_exporter": "python",
   "pygments_lexer": "ipython3",
   "version": "3.6.4"
  }
 },
 "nbformat": 4,
 "nbformat_minor": 2
}
